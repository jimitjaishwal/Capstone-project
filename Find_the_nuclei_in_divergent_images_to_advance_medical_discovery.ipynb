{
  "nbformat": 4,
  "nbformat_minor": 0,
  "metadata": {
    "colab": {
      "name": "Find the nuclei in divergent images to advance medical discovery.ipynb",
      "version": "0.3.2",
      "views": {},
      "default_view": {},
      "provenance": [],
      "collapsed_sections": []
    },
    "kernelspec": {
      "name": "python3",
      "display_name": "Python 3"
    },
    "accelerator": "GPU"
  },
  "cells": [
    {
      "metadata": {
        "id": "1geYqBhU7rmW",
        "colab_type": "text"
      },
      "cell_type": "markdown",
      "source": [
        "#Find the nuclei in divergent images to advance medical discovery\n",
        "\n",
        "In this dataset we will classify microscopic images of Nucleus  from the 2018 data  Data Science Bowl [Find the nuclei in divergent images to advance medical discovery ](http://www.kaggle.com/c/data-science-bowl-2018) dataset.This dataset contains a large number of segmented nuclei images.  You'll preprocess the images, then train a U-net convolutional neural network on all the samples. The images need to be normalize and we use Data augmentation because we have small dataset. we are apply convolutional, max pooling,concatenate and upsampling At the end, you'll get to see your neural network's predictions on the sample images.\n",
        "# Get the data\n",
        "you can download the data hear- [Find the nuclei in divergent images to advance medical discovery ](https://www.kaggle.com/c/data-science-bowl-2018/data)\n",
        "\n"
      ]
    },
    {
      "metadata": {
        "id": "1Do7Za9-_IhB",
        "colab_type": "code",
        "colab": {
          "autoexec": {
            "startup": false,
            "wait_interval": 0
          },
          "base_uri": "https://localhost:8080/",
          "height": 119
        },
        "outputId": "42ba4ca9-9a19-495f-ba97-b3f5e70f0f6c",
        "executionInfo": {
          "status": "ok",
          "timestamp": 1526825180845,
          "user_tz": -330,
          "elapsed": 5349,
          "user": {
            "displayName": "Jimit Jayswal",
            "photoUrl": "//lh3.googleusercontent.com/-ftdgqUTK9F4/AAAAAAAAAAI/AAAAAAAAAkk/ZZ8-QUMozAs/s50-c-k-no/photo.jpg",
            "userId": "107987721837063616456"
          }
        }
      },
      "cell_type": "code",
      "source": [
        "!pip install tqdm\n",
        "!curl -LO https://raw.github.com/drj11/pypng/master/code/png.py\n",
        "\n",
        "import numpy as np \n",
        "import pandas as pd\n",
        "import sys\n",
        "from urllib.request import urlretrieve\n",
        "from os.path import isfile, isdir\n",
        "import zipfile\n",
        "import os\n",
        "from tqdm import tqdm, tqdm_notebook\n",
        "import matplotlib.pyplot as plt\n",
        "%matplotlib inline\n",
        "import tensorflow as tf\n",
        "from skimage.io import imread\n",
        "from skimage.transform import resize \n",
        "from keras.layers import Input\n",
        "from keras.layers import Lambda\n",
        "from keras.layers import Conv2D\n",
        "from keras.layers import MaxPooling2D\n",
        "from keras.layers import UpSampling2D\n",
        "from keras.layers import concatenate\n",
        "from keras.callbacks import EarlyStopping\n",
        "from keras.callbacks import ModelCheckpoint\n",
        "from keras.models import Model\n",
        "from keras.models import load_model\n",
        "import keras.backend as K"
      ],
      "execution_count": 1,
      "outputs": [
        {
          "output_type": "stream",
          "text": [
            "Requirement already satisfied: tqdm in /usr/local/lib/python3.6/dist-packages (4.23.3)\n",
            "  % Total    % Received % Xferd  Average Speed   Time    Time     Time  Current\n",
            "                                 Dload  Upload   Total   Spent    Left  Speed\n",
            "  0     0    0     0    0     0      0      0 --:--:-- --:--:-- --:--:--     0\n",
            "100   97k  100   97k    0     0    97k      0  0:00:01 --:--:--  0:00:01   97k\n"
          ],
          "name": "stdout"
        },
        {
          "output_type": "stream",
          "text": [
            "Using TensorFlow backend.\n"
          ],
          "name": "stderr"
        }
      ]
    },
    {
      "metadata": {
        "id": "0B8r-MZh8T_V",
        "colab_type": "code",
        "colab": {
          "autoexec": {
            "startup": false,
            "wait_interval": 0
          },
          "base_uri": "https://localhost:8080/",
          "height": 34
        },
        "outputId": "b40db9e0-3adf-4f32-ccc2-99e1e17e661e",
        "executionInfo": {
          "status": "ok",
          "timestamp": 1526825193450,
          "user_tz": -330,
          "elapsed": 9976,
          "user": {
            "displayName": "Jimit Jayswal",
            "photoUrl": "//lh3.googleusercontent.com/-ftdgqUTK9F4/AAAAAAAAAAI/AAAAAAAAAkk/ZZ8-QUMozAs/s50-c-k-no/photo.jpg",
            "userId": "107987721837063616456"
          }
        }
      },
      "cell_type": "code",
      "source": [
        "cwd = os.getcwd()\n",
        "\n",
        "testpath = os.path.join(cwd, 'data', 'test')\n",
        "trainpath = os.path.join(cwd, 'data', 'train')\n",
        "\n",
        "if not os.path.exists(trainpath):\n",
        "    os.makedirs(trainpath)\n",
        "\n",
        "if not os.path.exists(testpath):\n",
        "    os.makedirs(testpath)\n",
        "\n",
        "class DLProgress(tqdm):\n",
        "    last_block = 0\n",
        "\n",
        "    def hook(self, block_num=1, block_size=1, total_size=None):\n",
        "        self.total = total_size\n",
        "        self.update((block_num - self.last_block) * block_size)\n",
        "        self.last_block = block_num\n",
        "\n",
        "if not isfile('train.zip'):\n",
        "    with DLProgress(unit='B', unit_scale=True, miniters=1, desc='Download Train Data') as pbar:\n",
        "        urlretrieve(\n",
        "            'https://storage.googleapis.com/kaggle-competitions-data/kaggle/8089/stage1_train.zip?GoogleAccessId=web-data@kaggle-161607.iam.gserviceaccount.com&Expires=1526807024&Signature=AFcbuZvuzlO5F1c2h%2F38XyGhdHbOIVfkhdjehTR3gh0nOXZqjkDuCSxZKnqIVWfTJDweC3eVsuEX%2FfnDyUYvnleTP8WtL%2BMfM2YuXLkNy%2FqeUYERuCXUAbngLSqhjgD1MjEtvPDQOKbMM%2BTanIwNuCQhqDY4cFaCeQT1LDJe58c9lQQXpf3NzOcZcUlzHCjPKnF17GwF8rn%2FgGPahVUorewq6bRYJJsKzf4Wf8Sc7Ply9U88ht9m6Lv7ZVLnJPuGAlnWOXQ%2BDYA%2BHK3mNSyBd5vKATybPC%2F5TGGaTksWx7%2BdIw%2BzWSdZ2mnpIB%2BM28GQMLRcTa8S3qUDXpPVSKOZBw%3D%3D',\n",
        "            'train.zip',\n",
        "            pbar.hook)\n",
        "        \n",
        "        \n",
        "if not isfile('test.zip'):\n",
        "    with DLProgress(unit='B', unit_scale=True, miniters=1, desc='Download Test Data') as pbar:\n",
        "        urlretrieve(\n",
        "            'https://storage.googleapis.com/kaggle-competitions-data/kaggle/8089/stage1_test.zip?GoogleAccessId=web-data@kaggle-161607.iam.gserviceaccount.com&Expires=1526805801&Signature=kgr1P14H5lVWcP7rCDI%2F1Fg4lX1dpJYuY1RM8VRFcoG5AuTS%2Bd7MqzTCRyGv73hHAsLHdejibmgqzDp9WYKtQWi2BYZJzaMcxfSVk%2Fg16aTcvtRHbi3jgMRKH%2FSZjWlN4GncVJQHhAJTgHzyKENX04L44C%2B5vfhy2vNWGyZtd4eI%2BP0D8BvB32QDoxg%2BXhk3WaWRa46yaHLx0tfvEGe%2Fb%2FejkfpOoA9xCVb%2BQCE9I2PrMcgeatxRKLZWQ2NVCdmgkzLDv3%2B7gJKs3%2B0JdCmug5UF3vEIfHq9hcuJHpNAeX0lkm8Y3YIyrlZULDNj8%2FgFQTr63S%2BiWdbPgtAwezHUoA%3D%3D',\n",
        "            'test.zip',\n",
        "            pbar.hook)\n",
        "\n",
        "with zipfile.ZipFile('train.zip') as zip_file:\n",
        "    cwd = os.getcwd()\n",
        "    zip_file.extractall(os.path.join(cwd, 'data', 'train'))\n",
        "    zip_file.close()\n",
        "\n",
        "with zipfile.ZipFile('test.zip') as zip_file:\n",
        "    cwd = os.getcwd()\n",
        "    zip_file.extractall(os.path.join(cwd, 'data', 'test'))\n",
        "    zip_file.close()\n",
        "\n",
        "print('All files Found')"
      ],
      "execution_count": 2,
      "outputs": [
        {
          "output_type": "stream",
          "text": [
            "All files Found\n"
          ],
          "name": "stdout"
        }
      ]
    },
    {
      "metadata": {
        "id": "a7WVCZ5P7rmb",
        "colab_type": "code",
        "colab": {
          "autoexec": {
            "startup": false,
            "wait_interval": 0
          }
        }
      },
      "cell_type": "code",
      "source": [
        "IMG_WIDTH = 128\n",
        "IMG_HEIGHT = 128\n",
        "IMG_DEPTH = 3\n",
        "\n",
        "TRAIN_PATH =  os.path.join('data', 'train')\n",
        "TEST_PATH = os.path.join('data', 'test')\n",
        "\n",
        "train_ids = next(os.walk(TRAIN_PATH))[1]\n",
        "test_ids = next(os.walk(TEST_PATH))[1]"
      ],
      "execution_count": 0,
      "outputs": []
    },
    {
      "metadata": {
        "id": "tvMAiiNV7rme",
        "colab_type": "code",
        "colab": {
          "autoexec": {
            "startup": false,
            "wait_interval": 0
          },
          "base_uri": "https://localhost:8080/",
          "height": 119
        },
        "outputId": "976c1772-cd8a-4de6-fca5-966e9db6136c",
        "executionInfo": {
          "status": "ok",
          "timestamp": 1526825308800,
          "user_tz": -330,
          "elapsed": 114120,
          "user": {
            "displayName": "Jimit Jayswal",
            "photoUrl": "//lh3.googleusercontent.com/-ftdgqUTK9F4/AAAAAAAAAAI/AAAAAAAAAkk/ZZ8-QUMozAs/s50-c-k-no/photo.jpg",
            "userId": "107987721837063616456"
          }
        }
      },
      "cell_type": "code",
      "source": [
        "X_train = np.zeros((len(train_ids), IMG_HEIGHT, IMG_WIDTH, IMG_DEPTH), dtype=np.uint8)\n",
        "Y_train = np.zeros((len(train_ids), IMG_HEIGHT, IMG_WIDTH, 1), dtype = np.bool)\n",
        "\n",
        "print('Getting And Resizing Training images and Masks...')\n",
        "sys.stdout.flush()\n",
        "\n",
        "for index, id_ in tqdm(enumerate(train_ids), total = len(train_ids)):\n",
        "    path = os.path.join(TRAIN_PATH, id_)\n",
        "    img = imread(os.path.join(path, 'images', id_) +  '.png')[:, :, :IMG_DEPTH]\n",
        "    img = resize(img, (IMG_HEIGHT, IMG_WIDTH), mode= 'constant', preserve_range=True)\n",
        "    X_train[index] = img\n",
        "    \n",
        "    mask = np.zeros((IMG_HEIGHT, IMG_WIDTH, 1), dtype = np.bool)\n",
        "    for mask_file in next(os.walk(os.path.join(path, 'masks')))[2]:\n",
        "        mask_ = imread(os.path.join(path, 'masks', mask_file))\n",
        "        mask_ = np.expand_dims(resize(mask_, (IMG_HEIGHT, IMG_HEIGHT), mode = 'constant', preserve_range=True), axis=-1)\n",
        "        mask = np.maximum(mask, mask_)\n",
        "    Y_train[index] = mask\n",
        "\n",
        "X_test = np.zeros((len(test_ids), IMG_HEIGHT, IMG_WIDTH, IMG_DEPTH), dtype = np.uint8)\n",
        "    \n",
        "print('Getting And Resizing Testing images and Masks...')\n",
        "sys.stdout.flush()\n",
        "\n",
        "for index, id_ in tqdm(enumerate(test_ids), total = len(test_ids)):\n",
        "    path = os.path.join(TEST_PATH, id_)\n",
        "    img = imread(os.path.join(path, 'images', id_) +  '.png')[:, :, :IMG_DEPTH]\n",
        "    img = resize(img, (IMG_HEIGHT, IMG_WIDTH), mode= 'constant', preserve_range=True)\n",
        "    X_test[index] = img\n",
        "\n",
        "print('done')\n",
        "print('We have {} Train images and {} Test images!'.format(X_train.shape[0],  X_test.shape[0]))"
      ],
      "execution_count": 4,
      "outputs": [
        {
          "output_type": "stream",
          "text": [
            "Getting And Resizing Training images and Masks...\n"
          ],
          "name": "stdout"
        },
        {
          "output_type": "stream",
          "text": [
            "100%|██████████| 670/670 [01:52<00:00,  5.97it/s]"
          ],
          "name": "stderr"
        },
        {
          "output_type": "stream",
          "text": [
            "Getting And Resizing Testing images and Masks...\n"
          ],
          "name": "stdout"
        },
        {
          "output_type": "stream",
          "text": [
            "\n",
            "100%|██████████| 65/65 [00:00<00:00, 68.35it/s]"
          ],
          "name": "stderr"
        },
        {
          "output_type": "stream",
          "text": [
            "done\n",
            "We have 670 Train images and 65 Test images!\n"
          ],
          "name": "stdout"
        },
        {
          "output_type": "stream",
          "text": [
            "\n"
          ],
          "name": "stderr"
        }
      ]
    },
    {
      "metadata": {
        "id": "ETBsHWDc7rmi",
        "colab_type": "text"
      },
      "cell_type": "markdown",
      "source": [
        "# Visulization Images And Masks\n",
        "we have 670 Training examples, now i am generating random index and visulize images and mask, i make `display_images` method, this method has three inputs, `X_train`, `Y_train` and `id_`. the `id_` input conain indexes. i am randomly generate id_ and visulize images and mask, run below comand."
      ]
    },
    {
      "metadata": {
        "id": "WRRlqUpQ7rmj",
        "colab_type": "code",
        "colab": {
          "autoexec": {
            "startup": false,
            "wait_interval": 0
          },
          "base_uri": "https://localhost:8080/",
          "height": 280
        },
        "outputId": "f7c0b9e4-c388-4206-b5ea-efaa2c51a407",
        "executionInfo": {
          "status": "ok",
          "timestamp": 1526825311110,
          "user_tz": -330,
          "elapsed": 2153,
          "user": {
            "displayName": "Jimit Jayswal",
            "photoUrl": "//lh3.googleusercontent.com/-ftdgqUTK9F4/AAAAAAAAAAI/AAAAAAAAAkk/ZZ8-QUMozAs/s50-c-k-no/photo.jpg",
            "userId": "107987721837063616456"
          }
        }
      },
      "cell_type": "code",
      "source": [
        "def display_images(id_, X_train, Y_train):\n",
        "    fig, (ax1, ax2) = plt.subplots(nrows=1, ncols=2, figsize=(8, 4), sharey=True)\n",
        "    ax1.set_title('Microscopic Image')\n",
        "    ax1.grid(False)\n",
        "    ax1.imshow(X_train[id_])\n",
        "\n",
        "    ax2.set_title('Mask Image')\n",
        "    ax2.grid(False)\n",
        "    ax2.imshow(np.squeeze(Y_train[id_]), cmap=\"viridis\")\n",
        "    plt.show()\n",
        "\n",
        "id_ = np.random.randint(len(X_train))\n",
        "display_images(id_, X_train, Y_train)"
      ],
      "execution_count": 5,
      "outputs": [
        {
          "output_type": "display_data",
          "data": {
            "image/png": "[encoded data removed]",
            "text/plain": [
              "<matplotlib.figure.Figure at 0x7f40a997f400>"
            ]
          },
          "metadata": {
            "tags": []
          }
        }
      ]
    },
    {
      "metadata": {
        "id": "kVZCqpYs7rmm",
        "colab_type": "text"
      },
      "cell_type": "markdown",
      "source": [
        "## Implement Preprocess Functions\n",
        "### Normalize\n",
        "In the cell below, implement the `normalize` function to take in image data, `X_train and X_test`, and return it as a normalized Numpy array. The values should be in the range of 0 to 1, inclusive.  The return object should be the same shape as `X_train and X_test`."
      ]
    },
    {
      "metadata": {
        "id": "59aU9gVf7rmm",
        "colab_type": "code",
        "colab": {
          "autoexec": {
            "startup": false,
            "wait_interval": 0
          }
        }
      },
      "cell_type": "code",
      "source": [
        "def normalize(x):\n",
        "    samples = []\n",
        "    for sample in x:\n",
        "        samples.append(sample / 255)\n",
        "    return np.array(samples)\n",
        "\n",
        "X_train = normalize(X_train)\n",
        "X_test = normalize(X_test)"
      ],
      "execution_count": 0,
      "outputs": []
    },
    {
      "metadata": {
        "id": "UNbI03wb7rmq",
        "colab_type": "text"
      },
      "cell_type": "markdown",
      "source": [
        "# Implement Evalution and metrics\n",
        "This competition is evaluated on the mean average precision at different intersection over union (IoU) thresholds. The IoU of a proposed set of object pixels and a set of true object pixels is calculated as:\n",
        "![](https://uoguelph-mlrg.github.io/images/spaceNet_evaluation_metric.png)\n",
        "The metric sweeps over a range of IoU thresholds, at each point calculating an average precision value. The threshold values range from 0.5 to 0.95 with a step size of 0.05: (0.5, 0.55, 0.6, 0.65, 0.7, 0.75, 0.8, 0.85, 0.9, 0.95). In other words, at a threshold of 0.5, a predicted object is considered a \"hit\" if its intersection over union with a ground truth object is greater than 0.5.\n",
        "At each threshold value t, a precision value is calculated based on the number of true positives (TP), false negatives (FN), and false positives (FP) resulting from comparing the predicted object to all ground truth objects:\n",
        "\n",
        "\\begin{align}\n",
        "\\frac{TP{(t)}}{TP{(t)} + FP{(t)} + FN{(t)}}\n",
        "\\end{align}\n",
        "\n",
        "A true positive is counted when a single predicted object matches a ground truth object with an IoU above the threshold. A false positive indicates a predicted object had no associated ground truth object. A false negative indicates a ground truth object had no associated predicted object. The average precision of a single image is then calculated as the mean of the above precision values at each IoU threshold:"
      ]
    },
    {
      "metadata": {
        "id": "2tIsOQ6z7rmr",
        "colab_type": "code",
        "colab": {
          "autoexec": {
            "startup": false,
            "wait_interval": 0
          }
        }
      },
      "cell_type": "code",
      "source": [
        "def iou(y_true, prediction):\n",
        "    prece = []\n",
        "    for e in np.arange(0.5, 1.0, 0.05):\n",
        "        pred = tf.to_int32(prediction > e)\n",
        "        score, opt = tf.metrics.mean_iou(y_true, pred, 2)\n",
        "        K.get_session().run(tf.local_variables_initializer())\n",
        "        with tf.control_dependencies([opt]):\n",
        "            score = tf.identity(score)\n",
        "        prece.append(score)\n",
        "    return K.mean(K.stack(prece),axis=0)"
      ],
      "execution_count": 0,
      "outputs": []
    },
    {
      "metadata": {
        "id": "rcM6Yy-87rmu",
        "colab_type": "text"
      },
      "cell_type": "markdown",
      "source": [
        "# Build the network\n",
        "In this project we build U-net Convolutional Networks for Image Segmentation.The u-net is convolutional network architecture for fast and precise segmentation of images. Up to now it has outperformed the prior best method (a sliding-window convolutional network) on the ISBI challenge for segmentation of neuronal structures in electron microscopic stacks. It has won the Grand Challenge for Computer-Automated Detection of Caries in Bitewing Radiography at ISBI 2015, and it has won the Cell Tracking Challenge at ISBI 2015 on the two most challenging transmitted light microscopy categories (Phase contrast and DIC microscopy) by a large margin . and we use this CNN archistructure. [Papers](https://arxiv.org/pdf/1505.04597.pdf)\n",
        "![](https://lmb.informatik.uni-freiburg.de/people/ronneber/u-net/u-net-architecture.png)"
      ]
    },
    {
      "metadata": {
        "id": "Hn6uyHlC7rmv",
        "colab_type": "code",
        "colab": {
          "autoexec": {
            "startup": false,
            "wait_interval": 0
          },
          "base_uri": "https://localhost:8080/",
          "height": 1428
        },
        "outputId": "7a39db58-f3a3-4863-8d56-a051b7916cfc",
        "executionInfo": {
          "status": "ok",
          "timestamp": 1526825317483,
          "user_tz": -330,
          "elapsed": 3411,
          "user": {
            "displayName": "Jimit Jayswal",
            "photoUrl": "//lh3.googleusercontent.com/-ftdgqUTK9F4/AAAAAAAAAAI/AAAAAAAAAkk/ZZ8-QUMozAs/s50-c-k-no/photo.jpg",
            "userId": "107987721837063616456"
          }
        }
      },
      "cell_type": "code",
      "source": [
        "def create_model():\n",
        "    \n",
        "    inputs = Input((IMG_WIDTH, IMG_HEIGHT, IMG_DEPTH))\n",
        "#     x = Lambda(lambda x : x / 255) (inputs)\n",
        "    \n",
        "    conv = Conv2D(16, (3, 3), padding='same', activation='relu')(inputs)\n",
        "    conv = Conv2D(16, (3, 3), padding='same', activation='relu')(conv)\n",
        "    p = MaxPooling2D((2, 2))(conv)\n",
        "    \n",
        "    conv1 = Conv2D(32, (3, 3), padding='same', activation='relu')(p)\n",
        "    conv1 = Conv2D(32, (3, 3), padding='same', activation='relu')(conv1)\n",
        "    p1 = MaxPooling2D((2, 2))(conv1)\n",
        "    \n",
        "    conv2 = Conv2D(64, (3, 3), padding='same', activation='relu')(p1)\n",
        "    conv2 = Conv2D(64, (3, 3), padding='same', activation='relu')(conv2)\n",
        "    p2 = MaxPooling2D((2, 2))(conv2)\n",
        "    \n",
        "    conv3 = Conv2D(128, (3, 3), padding='same', activation='relu')(p2)\n",
        "    conv3 = Conv2D(128, (3, 3), padding='same', activation='relu')(conv3)\n",
        "    p3 = MaxPooling2D((2, 2))(conv3)\n",
        "    \n",
        "    conv4 = Conv2D(256, (3, 3), padding='same', activation='relu')(p3)\n",
        "    conv4 = Conv2D(256, (3, 3), padding='same', activation='relu')(conv4)\n",
        "    \n",
        "    m = concatenate([\n",
        "        Conv2D(128, (2, 2), padding='same', activation='relu')(UpSampling2D(size = (2, 2)) (conv4)),\n",
        "        conv3\n",
        "    ])\n",
        "    \n",
        "    conv5 = Conv2D(128, (3, 3), padding='same', activation='relu')(m)\n",
        "    conv5 = Conv2D(128, (3, 3), padding='same', activation='relu')(conv5)\n",
        "    \n",
        "    m1 = concatenate([\n",
        "        Conv2D(64, (2, 2), padding='same', activation='relu')(UpSampling2D(size = (2, 2)) (conv5)),\n",
        "        conv2\n",
        "    ])\n",
        "    \n",
        "    conv6 = Conv2D(64, (3, 3), padding='same', activation='relu')(m1)\n",
        "    conv6 = Conv2D(64, (3, 3), padding='same', activation='relu')(conv6)\n",
        "    \n",
        "    m2 = concatenate([\n",
        "        Conv2D(32, (2, 2), padding='same', activation='relu')(UpSampling2D(size = (2, 2)) (conv6)),\n",
        "        conv1\n",
        "    ])\n",
        "    \n",
        "    conv7 = Conv2D(32, (3, 3), padding='same', activation='relu')(m2)\n",
        "    conv7 = Conv2D(32, (3, 3), padding='same', activation='relu')(conv7)\n",
        "    \n",
        "    m3 = concatenate([\n",
        "        Conv2D(16, (2, 2), padding='same', activation='relu')(UpSampling2D(size = (2, 2)) (conv7)),\n",
        "        conv\n",
        "    ])\n",
        "    \n",
        "    conv8 = Conv2D(16, (3, 3), padding='same', activation='relu')(m3)\n",
        "    conv8 = Conv2D(16, (3, 3), padding='same', activation='relu')(conv8)\n",
        "    \n",
        "    output = Conv2D(1, (1, 1), padding='same', activation='sigmoid')(conv8)\n",
        "    \n",
        "    model = Model(inputs = inputs, outputs = output)\n",
        "    model.compile(loss = 'binary_crossentropy', optimizer = 'Adam', metrics = [iou])\n",
        "    return model\n",
        "    \n",
        "model = create_model()\n",
        "model.summary()"
      ],
      "execution_count": 8,
      "outputs": [
        {
          "output_type": "stream",
          "text": [
            "__________________________________________________________________________________________________\n",
            "Layer (type)                    Output Shape         Param #     Connected to                     \n",
            "==================================================================================================\n",
            "input_1 (InputLayer)            (None, 128, 128, 3)  0                                            \n",
            "__________________________________________________________________________________________________\n",
            "conv2d_1 (Conv2D)               (None, 128, 128, 16) 448         input_1[0][0]                    \n",
            "__________________________________________________________________________________________________\n",
            "conv2d_2 (Conv2D)               (None, 128, 128, 16) 2320        conv2d_1[0][0]                   \n",
            "__________________________________________________________________________________________________\n",
            "max_pooling2d_1 (MaxPooling2D)  (None, 64, 64, 16)   0           conv2d_2[0][0]                   \n",
            "__________________________________________________________________________________________________\n",
            "conv2d_3 (Conv2D)               (None, 64, 64, 32)   4640        max_pooling2d_1[0][0]            \n",
            "__________________________________________________________________________________________________\n",
            "conv2d_4 (Conv2D)               (None, 64, 64, 32)   9248        conv2d_3[0][0]                   \n",
            "__________________________________________________________________________________________________\n",
            "max_pooling2d_2 (MaxPooling2D)  (None, 32, 32, 32)   0           conv2d_4[0][0]                   \n",
            "__________________________________________________________________________________________________\n",
            "conv2d_5 (Conv2D)               (None, 32, 32, 64)   18496       max_pooling2d_2[0][0]            \n",
            "__________________________________________________________________________________________________\n",
            "conv2d_6 (Conv2D)               (None, 32, 32, 64)   36928       conv2d_5[0][0]                   \n",
            "__________________________________________________________________________________________________\n",
            "max_pooling2d_3 (MaxPooling2D)  (None, 16, 16, 64)   0           conv2d_6[0][0]                   \n",
            "__________________________________________________________________________________________________\n",
            "conv2d_7 (Conv2D)               (None, 16, 16, 128)  73856       max_pooling2d_3[0][0]            \n",
            "__________________________________________________________________________________________________\n",
            "conv2d_8 (Conv2D)               (None, 16, 16, 128)  147584      conv2d_7[0][0]                   \n",
            "__________________________________________________________________________________________________\n",
            "max_pooling2d_4 (MaxPooling2D)  (None, 8, 8, 128)    0           conv2d_8[0][0]                   \n",
            "__________________________________________________________________________________________________\n",
            "conv2d_9 (Conv2D)               (None, 8, 8, 256)    295168      max_pooling2d_4[0][0]            \n",
            "__________________________________________________________________________________________________\n",
            "conv2d_10 (Conv2D)              (None, 8, 8, 256)    590080      conv2d_9[0][0]                   \n",
            "__________________________________________________________________________________________________\n",
            "up_sampling2d_1 (UpSampling2D)  (None, 16, 16, 256)  0           conv2d_10[0][0]                  \n",
            "__________________________________________________________________________________________________\n",
            "conv2d_11 (Conv2D)              (None, 16, 16, 128)  131200      up_sampling2d_1[0][0]            \n",
            "__________________________________________________________________________________________________\n",
            "concatenate_1 (Concatenate)     (None, 16, 16, 256)  0           conv2d_11[0][0]                  \n",
            "                                                                 conv2d_8[0][0]                   \n",
            "__________________________________________________________________________________________________\n",
            "conv2d_12 (Conv2D)              (None, 16, 16, 128)  295040      concatenate_1[0][0]              \n",
            "__________________________________________________________________________________________________\n",
            "conv2d_13 (Conv2D)              (None, 16, 16, 128)  147584      conv2d_12[0][0]                  \n",
            "__________________________________________________________________________________________________\n",
            "up_sampling2d_2 (UpSampling2D)  (None, 32, 32, 128)  0           conv2d_13[0][0]                  \n",
            "__________________________________________________________________________________________________\n",
            "conv2d_14 (Conv2D)              (None, 32, 32, 64)   32832       up_sampling2d_2[0][0]            \n",
            "__________________________________________________________________________________________________\n",
            "concatenate_2 (Concatenate)     (None, 32, 32, 128)  0           conv2d_14[0][0]                  \n",
            "                                                                 conv2d_6[0][0]                   \n",
            "__________________________________________________________________________________________________\n",
            "conv2d_15 (Conv2D)              (None, 32, 32, 64)   73792       concatenate_2[0][0]              \n",
            "__________________________________________________________________________________________________\n",
            "conv2d_16 (Conv2D)              (None, 32, 32, 64)   36928       conv2d_15[0][0]                  \n",
            "__________________________________________________________________________________________________\n",
            "up_sampling2d_3 (UpSampling2D)  (None, 64, 64, 64)   0           conv2d_16[0][0]                  \n",
            "__________________________________________________________________________________________________\n",
            "conv2d_17 (Conv2D)              (None, 64, 64, 32)   8224        up_sampling2d_3[0][0]            \n",
            "__________________________________________________________________________________________________\n",
            "concatenate_3 (Concatenate)     (None, 64, 64, 64)   0           conv2d_17[0][0]                  \n",
            "                                                                 conv2d_4[0][0]                   \n",
            "__________________________________________________________________________________________________\n",
            "conv2d_18 (Conv2D)              (None, 64, 64, 32)   18464       concatenate_3[0][0]              \n",
            "__________________________________________________________________________________________________\n",
            "conv2d_19 (Conv2D)              (None, 64, 64, 32)   9248        conv2d_18[0][0]                  \n",
            "__________________________________________________________________________________________________\n",
            "up_sampling2d_4 (UpSampling2D)  (None, 128, 128, 32) 0           conv2d_19[0][0]                  \n",
            "__________________________________________________________________________________________________\n",
            "conv2d_20 (Conv2D)              (None, 128, 128, 16) 2064        up_sampling2d_4[0][0]            \n",
            "__________________________________________________________________________________________________\n",
            "concatenate_4 (Concatenate)     (None, 128, 128, 32) 0           conv2d_20[0][0]                  \n",
            "                                                                 conv2d_2[0][0]                   \n",
            "__________________________________________________________________________________________________\n",
            "conv2d_21 (Conv2D)              (None, 128, 128, 16) 4624        concatenate_4[0][0]              \n",
            "__________________________________________________________________________________________________\n",
            "conv2d_22 (Conv2D)              (None, 128, 128, 16) 2320        conv2d_21[0][0]                  \n",
            "__________________________________________________________________________________________________\n",
            "conv2d_23 (Conv2D)              (None, 128, 128, 1)  17          conv2d_22[0][0]                  \n",
            "==================================================================================================\n",
            "Total params: 1,941,105\n",
            "Trainable params: 1,941,105\n",
            "Non-trainable params: 0\n",
            "__________________________________________________________________________________________________\n"
          ],
          "name": "stdout"
        }
      ]
    },
    {
      "metadata": {
        "id": "3T6OMdH37rm0",
        "colab_type": "text"
      },
      "cell_type": "markdown",
      "source": [
        "# Train the model\n",
        "now we train our model, before we train the model we set our callbacks\n",
        "*   **ModelCheckpoint** :  For example: if filepath  is **model-capstone_project_udacity_by_jimit_jaishwal**, then the model checkpoints will be saved with the epoch number and the validation loss in the filename.\n",
        "*  **EarlyStopping** : Stop training when a monitored quantity has stopped improving."
      ]
    },
    {
      "metadata": {
        "id": "tI629wfL7rm1",
        "colab_type": "code",
        "colab": {
          "autoexec": {
            "startup": false,
            "wait_interval": 0
          },
          "base_uri": "https://localhost:8080/",
          "height": 3080
        },
        "outputId": "78dd7fe2-a896-4ba0-fa43-86d24ec7172e",
        "executionInfo": {
          "status": "ok",
          "timestamp": 1526825876674,
          "user_tz": -330,
          "elapsed": 559024,
          "user": {
            "displayName": "Jimit Jayswal",
            "photoUrl": "//lh3.googleusercontent.com/-ftdgqUTK9F4/AAAAAAAAAAI/AAAAAAAAAkk/ZZ8-QUMozAs/s50-c-k-no/photo.jpg",
            "userId": "107987721837063616456"
          }
        }
      },
      "cell_type": "code",
      "source": [
        "FILE_PATH = 'model-capstone_project_udacity_by_jimit_jaishwal'\n",
        "checkpointer = ModelCheckpoint(FILE_PATH, verbose=1, save_best_only=True)\n",
        "stoper = EarlyStopping(verbose=1, patience=5)\n",
        "\n",
        "BATCH = 4\n",
        "EPOCH = 45\n",
        "\n",
        "model.fit(epochs= EPOCH,\n",
        "          x = X_train,\n",
        "          y = Y_train, shuffle = False,\n",
        "          batch_size = BATCH,\n",
        "          validation_split = 0.1,\n",
        "          callbacks=[checkpointer, stoper])"
      ],
      "execution_count": 9,
      "outputs": [
        {
          "output_type": "stream",
          "text": [
            "Train on 603 samples, validate on 67 samples\n",
            "Epoch 1/45\n",
            "603/603 [==============================] - 16s 27ms/step - loss: 0.3564 - iou: 0.4185 - val_loss: 0.1652 - val_iou: 0.4268\n",
            "\n",
            "Epoch 00001: val_loss improved from inf to 0.16519, saving model to model-capstone_project_udacity_by_jimit_jaishwal\n",
            "Epoch 2/45\n",
            "603/603 [==============================] - 13s 21ms/step - loss: 0.1870 - iou: 0.4703 - val_loss: 0.1244 - val_iou: 0.5169\n",
            "\n",
            "Epoch 00002: val_loss improved from 0.16519 to 0.12440, saving model to model-capstone_project_udacity_by_jimit_jaishwal\n",
            "Epoch 3/45\n",
            "124/603 [=====>........................] - ETA: 9s - loss: 0.1252 - iou: 0.5299"
          ],
          "name": "stdout"
        },
        {
          "output_type": "stream",
          "text": [
            "603/603 [==============================] - 13s 21ms/step - loss: 0.1179 - iou: 0.5643 - val_loss: 0.0900 - val_iou: 0.6040\n",
            "\n",
            "Epoch 00003: val_loss improved from 0.12440 to 0.09001, saving model to model-capstone_project_udacity_by_jimit_jaishwal\n",
            "Epoch 4/45\n",
            "603/603 [==============================] - 12s 21ms/step - loss: 0.1002 - iou: 0.6328 - val_loss: 0.0870 - val_iou: 0.6566\n",
            "\n",
            "Epoch 00004: val_loss improved from 0.09001 to 0.08701, saving model to model-capstone_project_udacity_by_jimit_jaishwal\n",
            "Epoch 5/45\n",
            "260/603 [===========>..................] - ETA: 6s - loss: 0.0922 - iou: 0.6654"
          ],
          "name": "stdout"
        },
        {
          "output_type": "stream",
          "text": [
            "603/603 [==============================] - 12s 21ms/step - loss: 0.0932 - iou: 0.6746 - val_loss: 0.0876 - val_iou: 0.6898\n",
            "\n",
            "Epoch 00005: val_loss did not improve from 0.08701\n",
            "Epoch 6/45\n",
            "603/603 [==============================] - 12s 20ms/step - loss: 0.0940 - iou: 0.7015 - val_loss: 0.0737 - val_iou: 0.7127\n",
            "\n",
            "Epoch 00006: val_loss improved from 0.08701 to 0.07369, saving model to model-capstone_project_udacity_by_jimit_jaishwal\n",
            "Epoch 7/45\n",
            "400/603 [==================>...........] - ETA: 4s - loss: 0.0842 - iou: 0.7196"
          ],
          "name": "stdout"
        },
        {
          "output_type": "stream",
          "text": [
            "603/603 [==============================] - 13s 21ms/step - loss: 0.0881 - iou: 0.7223 - val_loss: 0.0735 - val_iou: 0.7305\n",
            "\n",
            "Epoch 00007: val_loss improved from 0.07369 to 0.07346, saving model to model-capstone_project_udacity_by_jimit_jaishwal\n",
            "Epoch 8/45\n",
            "603/603 [==============================] - 13s 21ms/step - loss: 0.0836 - iou: 0.7380 - val_loss: 0.0692 - val_iou: 0.7446\n",
            "\n",
            "Epoch 00008: val_loss improved from 0.07346 to 0.06916, saving model to model-capstone_project_udacity_by_jimit_jaishwal\n",
            "Epoch 9/45\n",
            "300/603 [=============>................] - ETA: 5s - loss: 0.0765 - iou: 0.7480"
          ],
          "name": "stdout"
        },
        {
          "output_type": "stream",
          "text": [
            "603/603 [==============================] - 13s 21ms/step - loss: 0.0801 - iou: 0.7507 - val_loss: 0.0670 - val_iou: 0.7562\n",
            "\n",
            "Epoch 00009: val_loss improved from 0.06916 to 0.06702, saving model to model-capstone_project_udacity_by_jimit_jaishwal\n",
            "Epoch 10/45\n",
            "603/603 [==============================] - 13s 21ms/step - loss: 0.0784 - iou: 0.7613 - val_loss: 0.0656 - val_iou: 0.7658\n",
            "\n",
            "Epoch 00010: val_loss improved from 0.06702 to 0.06563, saving model to model-capstone_project_udacity_by_jimit_jaishwal\n",
            "Epoch 11/45\n",
            "284/603 [=============>................] - ETA: 6s - loss: 0.0712 - iou: 0.7680"
          ],
          "name": "stdout"
        },
        {
          "output_type": "stream",
          "text": [
            "603/603 [==============================] - 12s 21ms/step - loss: 0.0771 - iou: 0.7701 - val_loss: 0.0639 - val_iou: 0.7739\n",
            "\n",
            "Epoch 00011: val_loss improved from 0.06563 to 0.06389, saving model to model-capstone_project_udacity_by_jimit_jaishwal\n",
            "Epoch 12/45\n",
            "603/603 [==============================] - 12s 21ms/step - loss: 0.0776 - iou: 0.7774 - val_loss: 0.0634 - val_iou: 0.7806\n",
            "\n",
            "Epoch 00012: val_loss improved from 0.06389 to 0.06344, saving model to model-capstone_project_udacity_by_jimit_jaishwal\n",
            "Epoch 13/45\n",
            "280/603 [============>.................] - ETA: 6s - loss: 0.0689 - iou: 0.7822"
          ],
          "name": "stdout"
        },
        {
          "output_type": "stream",
          "text": [
            "603/603 [==============================] - 13s 21ms/step - loss: 0.0755 - iou: 0.7838 - val_loss: 0.0623 - val_iou: 0.7866\n",
            "\n",
            "Epoch 00013: val_loss improved from 0.06344 to 0.06228, saving model to model-capstone_project_udacity_by_jimit_jaishwal\n",
            "Epoch 14/45\n",
            "603/603 [==============================] - 12s 21ms/step - loss: 0.0744 - iou: 0.7894 - val_loss: 0.0620 - val_iou: 0.7918\n",
            "\n",
            "Epoch 00014: val_loss improved from 0.06228 to 0.06200, saving model to model-capstone_project_udacity_by_jimit_jaishwal\n",
            "Epoch 15/45\n",
            "280/603 [============>.................] - ETA: 6s - loss: 0.0670 - iou: 0.7931"
          ],
          "name": "stdout"
        },
        {
          "output_type": "stream",
          "text": [
            "603/603 [==============================] - 13s 21ms/step - loss: 0.0732 - iou: 0.7943 - val_loss: 0.0611 - val_iou: 0.7965\n",
            "\n",
            "Epoch 00015: val_loss improved from 0.06200 to 0.06108, saving model to model-capstone_project_udacity_by_jimit_jaishwal\n",
            "Epoch 16/45\n",
            "603/603 [==============================] - 12s 21ms/step - loss: 0.0720 - iou: 0.7987 - val_loss: 0.0598 - val_iou: 0.8007\n",
            "\n",
            "Epoch 00016: val_loss improved from 0.06108 to 0.05976, saving model to model-capstone_project_udacity_by_jimit_jaishwal\n",
            "Epoch 17/45\n",
            "280/603 [============>.................] - ETA: 6s - loss: 0.0682 - iou: 0.8017"
          ],
          "name": "stdout"
        },
        {
          "output_type": "stream",
          "text": [
            "603/603 [==============================] - 13s 21ms/step - loss: 0.0727 - iou: 0.8027 - val_loss: 0.0594 - val_iou: 0.8045\n",
            "\n",
            "Epoch 00017: val_loss improved from 0.05976 to 0.05935, saving model to model-capstone_project_udacity_by_jimit_jaishwal\n",
            "Epoch 18/45\n",
            "603/603 [==============================] - 13s 21ms/step - loss: 0.0711 - iou: 0.8063 - val_loss: 0.0598 - val_iou: 0.8079\n",
            "\n",
            "Epoch 00018: val_loss did not improve from 0.05935\n",
            "Epoch 19/45\n",
            "324/603 [===============>..............] - ETA: 5s - loss: 0.0676 - iou: 0.8089"
          ],
          "name": "stdout"
        },
        {
          "output_type": "stream",
          "text": [
            "603/603 [==============================] - 13s 21ms/step - loss: 0.0709 - iou: 0.8096 - val_loss: 0.0588 - val_iou: 0.8110\n",
            "\n",
            "Epoch 00019: val_loss improved from 0.05935 to 0.05877, saving model to model-capstone_project_udacity_by_jimit_jaishwal\n",
            "Epoch 20/45\n",
            "603/603 [==============================] - 13s 21ms/step - loss: 0.0714 - iou: 0.8125 - val_loss: 0.0591 - val_iou: 0.8138\n",
            "\n",
            "Epoch 00020: val_loss did not improve from 0.05877\n",
            "Epoch 21/45\n",
            "328/603 [===============>..............] - ETA: 5s - loss: 0.0676 - iou: 0.8147"
          ],
          "name": "stdout"
        },
        {
          "output_type": "stream",
          "text": [
            "603/603 [==============================] - 13s 21ms/step - loss: 0.0700 - iou: 0.8152 - val_loss: 0.0596 - val_iou: 0.8164\n",
            "\n",
            "Epoch 00021: val_loss did not improve from 0.05877\n",
            "Epoch 22/45\n",
            "603/603 [==============================] - 13s 21ms/step - loss: 0.0708 - iou: 0.8177 - val_loss: 0.0575 - val_iou: 0.8188\n",
            "\n",
            "Epoch 00022: val_loss improved from 0.05877 to 0.05754, saving model to model-capstone_project_udacity_by_jimit_jaishwal\n",
            "Epoch 23/45\n",
            "408/603 [===================>..........] - ETA: 3s - loss: 0.0670 - iou: 0.8197"
          ],
          "name": "stdout"
        },
        {
          "output_type": "stream",
          "text": [
            "603/603 [==============================] - 12s 21ms/step - loss: 0.0681 - iou: 0.8200 - val_loss: 0.0571 - val_iou: 0.8211\n",
            "\n",
            "Epoch 00023: val_loss improved from 0.05754 to 0.05714, saving model to model-capstone_project_udacity_by_jimit_jaishwal\n",
            "Epoch 24/45\n",
            "603/603 [==============================] - 13s 21ms/step - loss: 0.0674 - iou: 0.8223 - val_loss: 0.0570 - val_iou: 0.8233\n",
            "\n",
            "Epoch 00024: val_loss improved from 0.05714 to 0.05699, saving model to model-capstone_project_udacity_by_jimit_jaishwal\n",
            "Epoch 25/45\n",
            "296/603 [=============>................] - ETA: 6s - loss: 0.0632 - iou: 0.8239"
          ],
          "name": "stdout"
        },
        {
          "output_type": "stream",
          "text": [
            "603/603 [==============================] - 13s 21ms/step - loss: 0.0668 - iou: 0.8244 - val_loss: 0.0566 - val_iou: 0.8253\n",
            "\n",
            "Epoch 00025: val_loss improved from 0.05699 to 0.05662, saving model to model-capstone_project_udacity_by_jimit_jaishwal\n",
            "Epoch 26/45\n",
            "603/603 [==============================] - 13s 21ms/step - loss: 0.0663 - iou: 0.8263 - val_loss: 0.0573 - val_iou: 0.8272\n",
            "\n",
            "Epoch 00026: val_loss did not improve from 0.05662\n",
            "Epoch 27/45\n",
            "324/603 [===============>..............] - ETA: 5s - loss: 0.0634 - iou: 0.8278"
          ],
          "name": "stdout"
        },
        {
          "output_type": "stream",
          "text": [
            "603/603 [==============================] - 12s 21ms/step - loss: 0.0664 - iou: 0.8281 - val_loss: 0.0567 - val_iou: 0.8290\n",
            "\n",
            "Epoch 00027: val_loss did not improve from 0.05662\n",
            "Epoch 28/45\n",
            "603/603 [==============================] - 12s 21ms/step - loss: 0.0669 - iou: 0.8299 - val_loss: 0.0574 - val_iou: 0.8306\n",
            "\n",
            "Epoch 00028: val_loss did not improve from 0.05662\n",
            "Epoch 29/45\n",
            "476/603 [======================>.......] - ETA: 2s - loss: 0.0698 - iou: 0.8312"
          ],
          "name": "stdout"
        },
        {
          "output_type": "stream",
          "text": [
            "603/603 [==============================] - 12s 20ms/step - loss: 0.0685 - iou: 0.8313 - val_loss: 0.0562 - val_iou: 0.8320\n",
            "\n",
            "Epoch 00029: val_loss improved from 0.05662 to 0.05616, saving model to model-capstone_project_udacity_by_jimit_jaishwal\n",
            "Epoch 30/45\n",
            "603/603 [==============================] - 12s 21ms/step - loss: 0.0667 - iou: 0.8328 - val_loss: 0.0562 - val_iou: 0.8335\n",
            "\n",
            "Epoch 00030: val_loss did not improve from 0.05616\n",
            "Epoch 31/45\n",
            "352/603 [================>.............] - ETA: 4s - loss: 0.0626 - iou: 0.8339"
          ],
          "name": "stdout"
        },
        {
          "output_type": "stream",
          "text": [
            "603/603 [==============================] - 13s 21ms/step - loss: 0.0669 - iou: 0.8342 - val_loss: 0.0569 - val_iou: 0.8348\n",
            "\n",
            "Epoch 00031: val_loss did not improve from 0.05616\n",
            "Epoch 32/45\n",
            "603/603 [==============================] - 12s 21ms/step - loss: 0.0672 - iou: 0.8355 - val_loss: 0.0559 - val_iou: 0.8360\n",
            "\n",
            "Epoch 00032: val_loss improved from 0.05616 to 0.05594, saving model to model-capstone_project_udacity_by_jimit_jaishwal\n",
            "Epoch 33/45\n",
            "412/603 [===================>..........] - ETA: 3s - loss: 0.0628 - iou: 0.8365"
          ],
          "name": "stdout"
        },
        {
          "output_type": "stream",
          "text": [
            "603/603 [==============================] - 12s 20ms/step - loss: 0.0638 - iou: 0.8367 - val_loss: 0.0558 - val_iou: 0.8373\n",
            "\n",
            "Epoch 00033: val_loss improved from 0.05594 to 0.05583, saving model to model-capstone_project_udacity_by_jimit_jaishwal\n",
            "Epoch 34/45\n",
            "603/603 [==============================] - 12s 21ms/step - loss: 0.0632 - iou: 0.8380 - val_loss: 0.0560 - val_iou: 0.8386\n",
            "\n",
            "Epoch 00034: val_loss did not improve from 0.05583\n",
            "Epoch 35/45\n",
            "344/603 [================>.............] - ETA: 5s - loss: 0.0621 - iou: 0.8390"
          ],
          "name": "stdout"
        },
        {
          "output_type": "stream",
          "text": [
            "603/603 [==============================] - 13s 21ms/step - loss: 0.0637 - iou: 0.8392 - val_loss: 0.0572 - val_iou: 0.8398\n",
            "\n",
            "Epoch 00035: val_loss did not improve from 0.05583\n",
            "Epoch 36/45\n",
            "603/603 [==============================] - 13s 21ms/step - loss: 0.0650 - iou: 0.8403 - val_loss: 0.0579 - val_iou: 0.8408\n",
            "\n",
            "Epoch 00036: val_loss did not improve from 0.05583\n",
            "Epoch 37/45\n",
            "480/603 [======================>.......] - ETA: 2s - loss: 0.0690 - iou: 0.8412"
          ],
          "name": "stdout"
        },
        {
          "output_type": "stream",
          "text": [
            "603/603 [==============================] - 12s 20ms/step - loss: 0.0687 - iou: 0.8413 - val_loss: 0.0575 - val_iou: 0.8416\n",
            "\n",
            "Epoch 00037: val_loss did not improve from 0.05583\n",
            "Epoch 38/45\n",
            "603/603 [==============================] - 12s 20ms/step - loss: 0.0661 - iou: 0.8421 - val_loss: 0.0552 - val_iou: 0.8425\n",
            "\n",
            "Epoch 00038: val_loss improved from 0.05583 to 0.05521, saving model to model-capstone_project_udacity_by_jimit_jaishwal\n",
            "Epoch 39/45\n",
            "432/603 [====================>.........] - ETA: 3s - loss: 0.0616 - iou: 0.8429"
          ],
          "name": "stdout"
        },
        {
          "output_type": "stream",
          "text": [
            "603/603 [==============================] - 12s 21ms/step - loss: 0.0632 - iou: 0.8431 - val_loss: 0.0548 - val_iou: 0.8435\n",
            "\n",
            "Epoch 00039: val_loss improved from 0.05521 to 0.05475, saving model to model-capstone_project_udacity_by_jimit_jaishwal\n",
            "Epoch 40/45\n",
            "603/603 [==============================] - 12s 21ms/step - loss: 0.0618 - iou: 0.8440 - val_loss: 0.0549 - val_iou: 0.8445\n",
            "\n",
            "Epoch 00040: val_loss did not improve from 0.05475\n",
            "Epoch 41/45\n",
            "344/603 [================>.............] - ETA: 5s - loss: 0.0592 - iou: 0.8448"
          ],
          "name": "stdout"
        },
        {
          "output_type": "stream",
          "text": [
            "603/603 [==============================] - 12s 20ms/step - loss: 0.0617 - iou: 0.8450 - val_loss: 0.0566 - val_iou: 0.8454\n",
            "\n",
            "Epoch 00041: val_loss did not improve from 0.05475\n",
            "Epoch 42/45\n",
            "603/603 [==============================] - 12s 20ms/step - loss: 0.0688 - iou: 0.8458 - val_loss: 0.0595 - val_iou: 0.8461\n",
            "\n",
            "Epoch 00042: val_loss did not improve from 0.05475\n",
            "Epoch 43/45\n",
            "480/603 [======================>.......] - ETA: 2s - loss: 0.0675 - iou: 0.8464"
          ],
          "name": "stdout"
        },
        {
          "output_type": "stream",
          "text": [
            "603/603 [==============================] - 12s 20ms/step - loss: 0.0666 - iou: 0.8464 - val_loss: 0.0558 - val_iou: 0.8468\n",
            "\n",
            "Epoch 00043: val_loss did not improve from 0.05475\n",
            "Epoch 44/45\n",
            "603/603 [==============================] - 12s 20ms/step - loss: 0.0625 - iou: 0.8472 - val_loss: 0.0551 - val_iou: 0.8475\n",
            "\n",
            "Epoch 00044: val_loss did not improve from 0.05475\n",
            "Epoch 00044: early stopping\n"
          ],
          "name": "stdout"
        },
        {
          "output_type": "execute_result",
          "data": {
            "text/plain": [
              "<keras.callbacks.History at 0x7f404b5b86a0>"
            ]
          },
          "metadata": {
            "tags": []
          },
          "execution_count": 9
        }
      ]
    },
    {
      "metadata": {
        "id": "5nuSK0KQ7rm4",
        "colab_type": "text"
      },
      "cell_type": "markdown",
      "source": [
        "#  Prediction\n",
        "Now we are predicting a validation train and test dataset and  check how accurate our CNN model?"
      ]
    },
    {
      "metadata": {
        "id": "YQEn7H8I7rm6",
        "colab_type": "code",
        "colab": {
          "autoexec": {
            "startup": false,
            "wait_interval": 0
          }
        }
      },
      "cell_type": "code",
      "source": [
        "model = load_model(filepath=FILE_PATH, custom_objects={'iou' : iou})\n",
        "\n",
        "predict_train_set = model.predict(X_train[:int(X_train.shape[0] * 0.9)])\n",
        "predict_val_set = model.predict(X_train[int(X_train.shape[0] * 0.9):])\n",
        "predict_test_set = model.predict(X_test)\n",
        "\n",
        "def set_threshold(preds):\n",
        "    return (preds > 0.5).astype(np.uint8)\n",
        "\n",
        "predict_train_set = set_threshold(predict_train_set)\n",
        "predict_val_set = set_threshold(predict_val_set)\n",
        "predict_test_set = set_threshold(predict_test_set)"
      ],
      "execution_count": 0,
      "outputs": []
    },
    {
      "metadata": {
        "id": "D2XDhylZtlkG",
        "colab_type": "text"
      },
      "cell_type": "markdown",
      "source": [
        "# Visualize Prediction\n",
        "\n",
        "now we test and visualize our predicting results and check how well model perform "
      ]
    },
    {
      "metadata": {
        "id": "wOpRpR99f_CD",
        "colab_type": "code",
        "colab": {
          "autoexec": {
            "startup": false,
            "wait_interval": 0
          },
          "base_uri": "https://localhost:8080/",
          "height": 280
        },
        "outputId": "d2f1848a-8c30-46ef-97f7-09050325a3a4",
        "executionInfo": {
          "status": "ok",
          "timestamp": 1526825888720,
          "user_tz": -330,
          "elapsed": 1496,
          "user": {
            "displayName": "Jimit Jayswal",
            "photoUrl": "//lh3.googleusercontent.com/-ftdgqUTK9F4/AAAAAAAAAAI/AAAAAAAAAkk/ZZ8-QUMozAs/s50-c-k-no/photo.jpg",
            "userId": "107987721837063616456"
          }
        }
      },
      "cell_type": "code",
      "source": [
        "def display_results(id_, X_train, Y_train, predicted):\n",
        "    fig, arr = plt.subplots(1, 3, figsize=(13.4, 4), sharey=True,sharex=True)\n",
        "    arr[0].set_title('Microscopic Image')\n",
        "    arr[0].grid(False)\n",
        "    arr[0].imshow(X_train[id_])\n",
        "\n",
        "    arr[1].set_title('Mask Image')\n",
        "    arr[1].grid(False)\n",
        "    arr[1].imshow(np.squeeze(Y_train[id_]), cmap=\"viridis\")\n",
        "    \n",
        "    arr[2].imshow(np.squeeze(predicted[id_]), cmap=\"viridis\")\n",
        "    arr[2].set_title('Predicted Image')\n",
        "    arr[2].grid(False)\n",
        "        \n",
        "id_ = np.random.randint(0, len(predict_train_set))\n",
        "display_results(id_, X_train, Y_train, predict_train_set)"
      ],
      "execution_count": 11,
      "outputs": [
        {
          "output_type": "display_data",
          "data": {
            "image/png": "[encoded data removed]",
            "text/plain": [
              "<matplotlib.figure.Figure at 0x7f403a1f7860>"
            ]
          },
          "metadata": {
            "tags": []
          }
        }
      ]
    },
    {
      "metadata": {
        "id": "XtrW_7cUFj48",
        "colab_type": "text"
      },
      "cell_type": "markdown",
      "source": [
        "# Save Results in local disks\n",
        "now we save all predicted test images in local disks."
      ]
    },
    {
      "metadata": {
        "id": "Q7C8vz3EvsZx",
        "colab_type": "code",
        "colab": {
          "autoexec": {
            "startup": false,
            "wait_interval": 0
          },
          "base_uri": "https://localhost:8080/",
          "height": 34
        },
        "outputId": "7e93644c-e6b8-4940-fcbe-c93028102626",
        "executionInfo": {
          "status": "ok",
          "timestamp": 1526825890847,
          "user_tz": -330,
          "elapsed": 2070,
          "user": {
            "displayName": "Jimit Jayswal",
            "photoUrl": "//lh3.googleusercontent.com/-ftdgqUTK9F4/AAAAAAAAAAI/AAAAAAAAAkk/ZZ8-QUMozAs/s50-c-k-no/photo.jpg",
            "userId": "107987721837063616456"
          }
        }
      },
      "cell_type": "code",
      "source": [
        "import png \n",
        "resultspath = os.path.join(cwd, 'results')\n",
        "\n",
        "if not os.path.exists(resultspath):\n",
        "    os.makedirs(resultspath)\n",
        "\n",
        "for index, image in enumerate(predict_test_set):\n",
        "    image_id = test_ids[index] + '.png'\n",
        "    png.from_array(image, 'L').save(os.path.join(resultspath, image_id))  \n",
        "\n",
        "print('All images saved successfully!')"
      ],
      "execution_count": 12,
      "outputs": [
        {
          "output_type": "stream",
          "text": [
            "All images saved successfully!\n"
          ],
          "name": "stdout"
        }
      ]
    },
    {
      "metadata": {
        "id": "TRMuOrJYRBR8",
        "colab_type": "code",
        "colab": {
          "autoexec": {
            "startup": false,
            "wait_interval": 0
          }
        }
      },
      "cell_type": "code",
      "source": [
        ""
      ],
      "execution_count": 0,
      "outputs": []
    }
  ]
}