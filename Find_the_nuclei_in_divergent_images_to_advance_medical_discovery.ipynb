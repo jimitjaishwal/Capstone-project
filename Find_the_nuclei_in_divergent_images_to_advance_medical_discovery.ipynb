{
  "nbformat": 4,
  "nbformat_minor": 0,
  "metadata": {
    "colab": {
      "name": "Find the nuclei in divergent images to advance medical discovery.ipynb",
      "version": "0.3.2",
      "views": {},
      "default_view": {},
      "provenance": [],
      "collapsed_sections": []
    },
    "kernelspec": {
      "name": "python3",
      "display_name": "Python 3"
    },
    "accelerator": "GPU"
  },
  "cells": [
    {
      "metadata": {
        "id": "1geYqBhU7rmW",
        "colab_type": "text"
      },
      "cell_type": "markdown",
      "source": [
        "#Find the nuclei in divergent images to advance medical discovery\n",
        "\n",
        "In this dataset we will classify microscopic images of Nucleus  from the 2018 data  Data Science Bowl [Find the nuclei in divergent images to advance medical discovery ](http://www.kaggle.com/c/data-science-bowl-2018) dataset.This dataset contains a large number of segmented nuclei images.  You'll preprocess the images, then train a U-net convolutional neural network on all the samples. The images need to be normalize and we use Data augmentation because we have small dataset. we are apply convolutional, max pooling,concatenate and upsampling At the end, you'll get to see your neural network's predictions on the sample images.\n",
        "# Get the data\n",
        "you can download the data hear- [Find the nuclei in divergent images to advance medical discovery ](https://www.kaggle.com/c/data-science-bowl-2018/data)\n",
        "\n"
      ]
    },
    {
      "metadata": {
        "id": "1Do7Za9-_IhB",
        "colab_type": "code",
        "colab": {
          "autoexec": {
            "startup": false,
            "wait_interval": 0
          },
          "base_uri": "https://localhost:8080/",
          "height": 119
        },
        "outputId": "a39f3dce-3333-4a77-9e66-c23234d99f1b",
        "executionInfo": {
          "status": "ok",
          "timestamp": 1527259129242,
          "user_tz": -330,
          "elapsed": 5669,
          "user": {
            "displayName": "Jimit Jayswal",
            "photoUrl": "//lh3.googleusercontent.com/-ftdgqUTK9F4/AAAAAAAAAAI/AAAAAAAAAkk/ZZ8-QUMozAs/s50-c-k-no/photo.jpg",
            "userId": "107987721837063616456"
          }
        }
      },
      "cell_type": "code",
      "source": [
        "!pip install tqdm\n",
        "!curl -LO https://raw.github.com/drj11/pypng/master/code/png.py\n",
        "\n",
        "import numpy as np \n",
        "import pandas as pd\n",
        "import sys\n",
        "from urllib.request import urlretrieve\n",
        "from os.path import isfile, isdir\n",
        "import zipfile\n",
        "import os\n",
        "from tqdm import tqdm, tqdm_notebook\n",
        "import matplotlib.pyplot as plt\n",
        "%matplotlib inline\n",
        "import tensorflow as tf\n",
        "from skimage.io import imread\n",
        "from skimage.transform import resize \n",
        "from keras.layers import Input\n",
        "from keras.layers import Lambda\n",
        "from keras.layers import Conv2D\n",
        "from keras.layers import MaxPooling2D\n",
        "from keras.layers import UpSampling2D\n",
        "from keras.layers import concatenate\n",
        "from keras.callbacks import EarlyStopping\n",
        "from keras.callbacks import ModelCheckpoint\n",
        "from keras.models import Model\n",
        "from keras.models import load_model\n",
        "import keras.backend as K"
      ],
      "execution_count": 1,
      "outputs": [
        {
          "output_type": "stream",
          "text": [
            "Requirement already satisfied: tqdm in /usr/local/lib/python3.6/dist-packages (4.23.4)\n",
            "  % Total    % Received % Xferd  Average Speed   Time    Time     Time  Current\n",
            "                                 Dload  Upload   Total   Spent    Left  Speed\n",
            "  0     0    0     0    0     0      0      0 --:--:-- --:--:-- --:--:--     0\n",
            "100   97k  100   97k    0     0    97k      0  0:00:01 --:--:--  0:00:01   97k\n"
          ],
          "name": "stdout"
        },
        {
          "output_type": "stream",
          "text": [
            "Using TensorFlow backend.\n"
          ],
          "name": "stderr"
        }
      ]
    },
    {
      "metadata": {
        "id": "0B8r-MZh8T_V",
        "colab_type": "code",
        "colab": {
          "autoexec": {
            "startup": false,
            "wait_interval": 0
          },
          "base_uri": "https://localhost:8080/",
          "height": 34
        },
        "outputId": "e4e59555-2b6d-4a13-f942-aa26def05ed2",
        "executionInfo": {
          "status": "ok",
          "timestamp": 1527259138943,
          "user_tz": -330,
          "elapsed": 9666,
          "user": {
            "displayName": "Jimit Jayswal",
            "photoUrl": "//lh3.googleusercontent.com/-ftdgqUTK9F4/AAAAAAAAAAI/AAAAAAAAAkk/ZZ8-QUMozAs/s50-c-k-no/photo.jpg",
            "userId": "107987721837063616456"
          }
        }
      },
      "cell_type": "code",
      "source": [
        "cwd = os.getcwd()\n",
        "\n",
        "testpath = os.path.join(cwd, 'data', 'test')\n",
        "trainpath = os.path.join(cwd, 'data', 'train')\n",
        "\n",
        "if not os.path.exists(trainpath):\n",
        "    os.makedirs(trainpath)\n",
        "\n",
        "if not os.path.exists(testpath):\n",
        "    os.makedirs(testpath)\n",
        "\n",
        "class DLProgress(tqdm):\n",
        "    last_block = 0\n",
        "\n",
        "    def hook(self, block_num=1, block_size=1, total_size=None):\n",
        "        self.total = total_size\n",
        "        self.update((block_num - self.last_block) * block_size)\n",
        "        self.last_block = block_num\n",
        "\n",
        "test_url = 'https://storage.googleapis.com/kaggle-competitions-data/kaggle/8089/stage1_test.zip?GoogleAccessId=web-data@kaggle-161607.iam.gserviceaccount.com&Expires=1527516301&Signature=PsQNWaZzX60IZTGFDisXXn3RVGSm6VqYHdNlhzA4U2kSZ5o86ANFFENXvFDHdf75f8%2F0chchV0pff01MtP309BPULgddPzFcrdu1fap3Ud1D81ToJ%2BZWdDqVc3CVqmS0AtRjeQbSReuuDuoS1%2Ff%2B%2BHWOtUjbYdhMeVjy7ptLzt7XTezLpiUZ54biU2Wg%2BW7Vp6PDXJXB7Izeg%2FI0kvqivCk6XWH6Dy%2B5U%2FJDKVchr2Q%2B6tbmJsHal8wRXWYPCMuSrZrKhNde9la6BWcBdgSxcc7L7bMBzi6unx4Hu7xzJV%2FlbbbRyT1ESzQmoO39enytA47BDiihWRK0ZDh9eQ%2FSAg%3D%3D'      \n",
        "train_url = 'https://storage.googleapis.com/kaggle-competitions-data/kaggle/8089/stage1_train.zip?GoogleAccessId=web-data@kaggle-161607.iam.gserviceaccount.com&Expires=1527516252&Signature=MP2TYKkHKpn2UmfHYDsZP5YI1ZPXE09%2BzVEtCdBTI6PHO1OWCngiejipodK0xj2DMdh6Z6flsrK3J8ilBZ%2Be%2Fw1brci476y9Id1euMW8XjeEWOPrFKbmmmw%2FH3JrrTjTM3ynb%2BviaD4q4eutyvARureOPdRvLKRhRzpvj035%2FTrbKebHIN7pEq9EP3fdtXYOgDudLm0NurLlzF%2BYGLqOBntLBBJ2pU%2BNGOpcrb1cNs7eXc6lslyHYJqETY6YxkEljX0iVIaN%2F1EnlQbAFpOBOMr8q54XqkTDX0%2BybZfS7ke9L6Eu0pIqONePGaPfZnvtPBFGKB54h0jMzYntAbrWMA%3D%3D'\n",
        "if not isfile('train.zip'):\n",
        "    with DLProgress(unit='B', unit_scale=True, miniters=1, desc='Download Train Data') as pbar:\n",
        "        urlretrieve(\n",
        "            train_url,\n",
        "            'train.zip',\n",
        "            pbar.hook)\n",
        "        \n",
        "        \n",
        "if not isfile('test.zip'):\n",
        "    with DLProgress(unit='B', unit_scale=True, miniters=1, desc='Download Test Data') as pbar:\n",
        "        urlretrieve(\n",
        "            test_url,  \n",
        "            'test.zip',\n",
        "            pbar.hook)\n",
        "\n",
        "with zipfile.ZipFile('train.zip') as zip_file:\n",
        "    cwd = os.getcwd()\n",
        "    zip_file.extractall(os.path.join(cwd, 'data', 'train'))\n",
        "    zip_file.close()\n",
        "\n",
        "with zipfile.ZipFile('test.zip') as zip_file:\n",
        "    cwd = os.getcwd()\n",
        "    zip_file.extractall(os.path.join(cwd, 'data', 'test'))\n",
        "    zip_file.close()\n",
        "\n",
        "print('All files Found')"
      ],
      "execution_count": 2,
      "outputs": [
        {
          "output_type": "stream",
          "text": [
            "All files Found\n"
          ],
          "name": "stdout"
        }
      ]
    },
    {
      "metadata": {
        "id": "a7WVCZ5P7rmb",
        "colab_type": "code",
        "colab": {
          "autoexec": {
            "startup": false,
            "wait_interval": 0
          }
        }
      },
      "cell_type": "code",
      "source": [
        "IMG_WIDTH = 128\n",
        "IMG_HEIGHT = 128\n",
        "IMG_DEPTH = 3\n",
        "\n",
        "TRAIN_PATH =  os.path.join('data', 'train')\n",
        "TEST_PATH = os.path.join('data', 'test')\n",
        "\n",
        "train_ids = next(os.walk(TRAIN_PATH))[1]\n",
        "test_ids = next(os.walk(TEST_PATH))[1]"
      ],
      "execution_count": 0,
      "outputs": []
    },
    {
      "metadata": {
        "id": "tvMAiiNV7rme",
        "colab_type": "code",
        "colab": {
          "autoexec": {
            "startup": false,
            "wait_interval": 0
          },
          "base_uri": "https://localhost:8080/",
          "height": 119
        },
        "outputId": "ab37564f-67a7-4988-e73d-6b6ced09043b",
        "executionInfo": {
          "status": "ok",
          "timestamp": 1527259247383,
          "user_tz": -330,
          "elapsed": 107270,
          "user": {
            "displayName": "Jimit Jayswal",
            "photoUrl": "//lh3.googleusercontent.com/-ftdgqUTK9F4/AAAAAAAAAAI/AAAAAAAAAkk/ZZ8-QUMozAs/s50-c-k-no/photo.jpg",
            "userId": "107987721837063616456"
          }
        }
      },
      "cell_type": "code",
      "source": [
        "X_train = np.zeros((len(train_ids), IMG_HEIGHT, IMG_WIDTH, IMG_DEPTH), dtype=np.uint8)\n",
        "Y_train = np.zeros((len(train_ids), IMG_HEIGHT, IMG_WIDTH, 1), dtype = np.bool)\n",
        "\n",
        "print('Getting And Resizing Training images and Masks...')\n",
        "sys.stdout.flush()\n",
        "\n",
        "for index, id_ in tqdm(enumerate(train_ids), total = len(train_ids)):\n",
        "    path = os.path.join(TRAIN_PATH, id_)\n",
        "    img = imread(os.path.join(path, 'images', id_) +  '.png')[:, :, :IMG_DEPTH]\n",
        "    img = resize(img, (IMG_HEIGHT, IMG_WIDTH), mode= 'constant', preserve_range=True)\n",
        "    X_train[index] = img\n",
        "    \n",
        "    mask = np.zeros((IMG_HEIGHT, IMG_WIDTH, 1), dtype = np.bool)\n",
        "    for mask_file in next(os.walk(os.path.join(path, 'masks')))[2]:\n",
        "        mask_ = imread(os.path.join(path, 'masks', mask_file))\n",
        "        mask_ = np.expand_dims(resize(mask_, (IMG_HEIGHT, IMG_HEIGHT), mode = 'constant', preserve_range=True), axis=-1)\n",
        "        mask = np.maximum(mask, mask_)\n",
        "    Y_train[index] = mask\n",
        "\n",
        "X_test = np.zeros((len(test_ids), IMG_HEIGHT, IMG_WIDTH, IMG_DEPTH), dtype = np.uint8)\n",
        "    \n",
        "print('Getting And Resizing Testing images and Masks...')\n",
        "sys.stdout.flush()\n",
        "\n",
        "for index, id_ in tqdm(enumerate(test_ids), total = len(test_ids)):\n",
        "    path = os.path.join(TEST_PATH, id_)\n",
        "    img = imread(os.path.join(path, 'images', id_) +  '.png')[:, :, :IMG_DEPTH]\n",
        "    img = resize(img, (IMG_HEIGHT, IMG_WIDTH), mode= 'constant', preserve_range=True)\n",
        "    X_test[index] = img\n",
        "\n",
        "print('done')\n",
        "print('We have {} Train images and {} Test images!'.format(X_train.shape[0],  X_test.shape[0]))"
      ],
      "execution_count": 4,
      "outputs": [
        {
          "output_type": "stream",
          "text": [
            "Getting And Resizing Training images and Masks...\n"
          ],
          "name": "stdout"
        },
        {
          "output_type": "stream",
          "text": [
            "100%|██████████| 670/670 [01:45<00:00,  6.35it/s]"
          ],
          "name": "stderr"
        },
        {
          "output_type": "stream",
          "text": [
            "Getting And Resizing Testing images and Masks...\n"
          ],
          "name": "stdout"
        },
        {
          "output_type": "stream",
          "text": [
            "\n",
            "100%|██████████| 65/65 [00:00<00:00, 69.61it/s]"
          ],
          "name": "stderr"
        },
        {
          "output_type": "stream",
          "text": [
            "done\n",
            "We have 670 Train images and 65 Test images!\n"
          ],
          "name": "stdout"
        },
        {
          "output_type": "stream",
          "text": [
            "\n"
          ],
          "name": "stderr"
        }
      ]
    },
    {
      "metadata": {
        "id": "ETBsHWDc7rmi",
        "colab_type": "text"
      },
      "cell_type": "markdown",
      "source": [
        "# Visulization Images And Masks\n",
        "we have 670 Training examples, now i am generating random index and visulize images and mask, i make `display_images` method, this method has three inputs, `X_train`, `Y_train` and `id_`. the `id_` input conain indexes. i am randomly generate id_ and visulize images and mask, run below comand."
      ]
    },
    {
      "metadata": {
        "id": "WRRlqUpQ7rmj",
        "colab_type": "code",
        "colab": {
          "autoexec": {
            "startup": false,
            "wait_interval": 0
          },
          "base_uri": "https://localhost:8080/",
          "height": 280
        },
        "outputId": "8b7419d8-0bca-4e29-83b6-239c4acdb998",
        "executionInfo": {
          "status": "ok",
          "timestamp": 1527259248759,
          "user_tz": -330,
          "elapsed": 1338,
          "user": {
            "displayName": "Jimit Jayswal",
            "photoUrl": "//lh3.googleusercontent.com/-ftdgqUTK9F4/AAAAAAAAAAI/AAAAAAAAAkk/ZZ8-QUMozAs/s50-c-k-no/photo.jpg",
            "userId": "107987721837063616456"
          }
        }
      },
      "cell_type": "code",
      "source": [
        "def display_images(id_, X_train, Y_train):\n",
        "    fig, (ax1, ax2) = plt.subplots(nrows=1, ncols=2, figsize=(8, 4), sharey=True)\n",
        "    ax1.set_title('Microscopic Image')\n",
        "    ax1.grid(False)\n",
        "    ax1.imshow(X_train[id_])\n",
        "\n",
        "    ax2.set_title('Mask Image')\n",
        "    ax2.grid(False)\n",
        "    ax2.imshow(np.squeeze(Y_train[id_]), cmap=\"viridis\")\n",
        "    plt.show()\n",
        "\n",
        "id_ = np.random.randint(len(X_train))\n",
        "display_images(9, X_train, Y_train)"
      ],
      "execution_count": 5,
      "outputs": [
        {
          "output_type": "display_data",
          "data": {
            "image/png": "[encoded data removed]",
            "text/plain": [
              "<matplotlib.figure.Figure at 0x7fe17a4191d0>"
            ]
          },
          "metadata": {
            "tags": []
          }
        }
      ]
    },
    {
      "metadata": {
        "id": "kVZCqpYs7rmm",
        "colab_type": "text"
      },
      "cell_type": "markdown",
      "source": [
        "## Implement Preprocess Functions\n",
        "### Normalize\n",
        "In the cell below, implement the `normalize` function to take in image data, `X_train and X_test`, and return it as a normalized Numpy array. The values should be in the range of 0 to 1, inclusive.  The return object should be the same shape as `X_train and X_test`."
      ]
    },
    {
      "metadata": {
        "id": "59aU9gVf7rmm",
        "colab_type": "code",
        "colab": {
          "autoexec": {
            "startup": false,
            "wait_interval": 0
          }
        }
      },
      "cell_type": "code",
      "source": [
        "def normalize(x):\n",
        "    samples = []\n",
        "    for sample in x:\n",
        "        samples.append(sample / 255)\n",
        "    return np.array(samples)\n",
        "\n",
        "X_train = normalize(X_train)\n",
        "X_test = normalize(X_test)"
      ],
      "execution_count": 0,
      "outputs": []
    },
    {
      "metadata": {
        "id": "UNbI03wb7rmq",
        "colab_type": "text"
      },
      "cell_type": "markdown",
      "source": [
        "# Metrics\n",
        "\n",
        "This project is evaluated on the mean average precision at different intersection over union (IoU) thresholds. The IoU of a proposed set of object pixels and a set of true object pixels is calculated as:\n",
        "\n",
        "\\begin{align}\n",
        "IoU(A,B) = \\frac{A \\cap B}{ A \\cup B}.\n",
        "\\end{align}\n",
        "\n",
        "The metric sweeps over a range of IoU thresholds, at each point calculating an average precision value. The threshold values range from 0.5 to 0.95 with a step size of 0.05: (0.5, 0.55, 0.6, 0.65, 0.7, 0.75, 0.8, 0.85, 0.9, 0.95). In other words, at a threshold of 0.5, a predicted object is considered a \"hit\" if its intersection over union with a ground truth object is greater than 0.5.\n",
        "At each threshold value tt, a precision value is calculated based on the number of true positives (TP), false negatives (FN), and false positives (FP) resulting from comparing the predicted object to all ground truth objects:\n",
        "\n",
        "\\begin{align}\n",
        "\\frac{TP(t)}{TP(t) + FP(t) + FN(t)}.\n",
        "\\end{align}\n",
        "\n",
        "A true positive is counted when a single predicted object matches a ground truth object with an IoU above the threshold. A false positive indicates a predicted object had no associated ground truth object. A false negative indicates a ground truth object had no associated predicted object. The average precision of a single image is then calculated as the mean of the above precision values at each IoU threshold:\n",
        "\n",
        "\\begin{align}\n",
        "\\frac{1}{|thresholds|} \\sum_t \\frac{TP(t)}{TP(t) + FP(t) + FN(t)}.\n",
        "\\end{align}\n",
        "\n",
        "Lastly, the score returned by the project metric is the mean taken over the individual average precisions of each image in the test dataset.\n",
        "\n",
        "Reference: \n",
        "\n",
        "[https://www.kaggle.com/c/data-science-bowl-2018#evaluation](https://www.kaggle.com/c/data-science-bowl-2018#evaluation)"
      ]
    },
    {
      "metadata": {
        "id": "2tIsOQ6z7rmr",
        "colab_type": "code",
        "colab": {
          "autoexec": {
            "startup": false,
            "wait_interval": 0
          }
        }
      },
      "cell_type": "code",
      "source": [
        "def iou(y_true, prediction):\n",
        "    prece = []\n",
        "    for e in np.arange(0.5, 1.0, 0.05):\n",
        "        pred = tf.to_int32(prediction > e)\n",
        "        score, opt = tf.metrics.mean_iou(y_true, pred, 2)\n",
        "        K.get_session().run(tf.local_variables_initializer())\n",
        "        with tf.control_dependencies([opt]):\n",
        "            score = tf.identity(score)\n",
        "        prece.append(score)\n",
        "    return K.mean(K.stack(prece),axis=0)"
      ],
      "execution_count": 0,
      "outputs": []
    },
    {
      "metadata": {
        "id": "rcM6Yy-87rmu",
        "colab_type": "text"
      },
      "cell_type": "markdown",
      "source": [
        "# Build the network\n",
        "In this project we build U-net Convolutional Networks for Image Segmentation.The u-net is convolutional network architecture for fast and precise segmentation of images. Up to now it has outperformed the prior best method (a sliding-window convolutional network) on the ISBI challenge for segmentation of neuronal structures in electron microscopic stacks. It has won the Grand Challenge for Computer-Automated Detection of Caries in Bitewing Radiography at ISBI 2015, and it has won the Cell Tracking Challenge at ISBI 2015 on the two most challenging transmitted light microscopy categories (Phase contrast and DIC microscopy) by a large margin . and we use this CNN archistructure. [Papers](https://arxiv.org/pdf/1505.04597.pdf)\n",
        "![](https://lmb.informatik.uni-freiburg.de/people/ronneber/u-net/u-net-architecture.png)"
      ]
    },
    {
      "metadata": {
        "id": "Hn6uyHlC7rmv",
        "colab_type": "code",
        "colab": {
          "autoexec": {
            "startup": false,
            "wait_interval": 0
          },
          "base_uri": "https://localhost:8080/",
          "height": 1428
        },
        "outputId": "a74f8585-df27-44d4-d76f-19c6cc7a077b",
        "executionInfo": {
          "status": "ok",
          "timestamp": 1527259255136,
          "user_tz": -330,
          "elapsed": 3756,
          "user": {
            "displayName": "Jimit Jayswal",
            "photoUrl": "//lh3.googleusercontent.com/-ftdgqUTK9F4/AAAAAAAAAAI/AAAAAAAAAkk/ZZ8-QUMozAs/s50-c-k-no/photo.jpg",
            "userId": "107987721837063616456"
          }
        }
      },
      "cell_type": "code",
      "source": [
        "def create_model():\n",
        "    \n",
        "    inputs = Input((IMG_WIDTH, IMG_HEIGHT, IMG_DEPTH))\n",
        "#     x = Lambda(lambda x : x / 255) (inputs)\n",
        "    \n",
        "    conv = Conv2D(16, (3, 3), padding='same', activation='relu')(inputs)\n",
        "    conv = Conv2D(16, (3, 3), padding='same', activation='relu')(conv)\n",
        "    p = MaxPooling2D((2, 2))(conv)\n",
        "    \n",
        "    conv1 = Conv2D(32, (3, 3), padding='same', activation='relu')(p)\n",
        "    conv1 = Conv2D(32, (3, 3), padding='same', activation='relu')(conv1)\n",
        "    p1 = MaxPooling2D((2, 2))(conv1)\n",
        "    \n",
        "    conv2 = Conv2D(64, (3, 3), padding='same', activation='relu')(p1)\n",
        "    conv2 = Conv2D(64, (3, 3), padding='same', activation='relu')(conv2)\n",
        "    p2 = MaxPooling2D((2, 2))(conv2)\n",
        "    \n",
        "    conv3 = Conv2D(128, (3, 3), padding='same', activation='relu')(p2)\n",
        "    conv3 = Conv2D(128, (3, 3), padding='same', activation='relu')(conv3)\n",
        "    p3 = MaxPooling2D((2, 2))(conv3)\n",
        "    \n",
        "    conv4 = Conv2D(256, (3, 3), padding='same', activation='relu')(p3)\n",
        "    conv4 = Conv2D(256, (3, 3), padding='same', activation='relu')(conv4)\n",
        "    \n",
        "    m = concatenate([\n",
        "        Conv2D(128, (2, 2), padding='same', activation='relu')(UpSampling2D(size = (2, 2)) (conv4)),\n",
        "        conv3\n",
        "    ])\n",
        "    \n",
        "    conv5 = Conv2D(128, (3, 3), padding='same', activation='relu')(m)\n",
        "    conv5 = Conv2D(128, (3, 3), padding='same', activation='relu')(conv5)\n",
        "    \n",
        "    m1 = concatenate([\n",
        "        Conv2D(64, (2, 2), padding='same', activation='relu')(UpSampling2D(size = (2, 2)) (conv5)),\n",
        "        conv2\n",
        "    ])\n",
        "    \n",
        "    conv6 = Conv2D(64, (3, 3), padding='same', activation='relu')(m1)\n",
        "    conv6 = Conv2D(64, (3, 3), padding='same', activation='relu')(conv6)\n",
        "    \n",
        "    m2 = concatenate([\n",
        "        Conv2D(32, (2, 2), padding='same', activation='relu')(UpSampling2D(size = (2, 2)) (conv6)),\n",
        "        conv1\n",
        "    ])\n",
        "    \n",
        "    conv7 = Conv2D(32, (3, 3), padding='same', activation='relu')(m2)\n",
        "    conv7 = Conv2D(32, (3, 3), padding='same', activation='relu')(conv7)\n",
        "    \n",
        "    m3 = concatenate([\n",
        "        Conv2D(16, (2, 2), padding='same', activation='relu')(UpSampling2D(size = (2, 2)) (conv7)),\n",
        "        conv\n",
        "    ])\n",
        "    \n",
        "    conv8 = Conv2D(16, (3, 3), padding='same', activation='relu')(m3)\n",
        "    conv8 = Conv2D(16, (3, 3), padding='same', activation='relu')(conv8)\n",
        "    \n",
        "    output = Conv2D(1, (1, 1), padding='same', activation='sigmoid')(conv8)\n",
        "    \n",
        "    model = Model(inputs = inputs, outputs = output)\n",
        "    model.compile(loss = 'binary_crossentropy', optimizer = 'Adam', metrics = [iou])\n",
        "    return model\n",
        "    \n",
        "model = create_model()\n",
        "model.summary()"
      ],
      "execution_count": 8,
      "outputs": [
        {
          "output_type": "stream",
          "text": [
            "__________________________________________________________________________________________________\n",
            "Layer (type)                    Output Shape         Param #     Connected to                     \n",
            "==================================================================================================\n",
            "input_1 (InputLayer)            (None, 128, 128, 3)  0                                            \n",
            "__________________________________________________________________________________________________\n",
            "conv2d_1 (Conv2D)               (None, 128, 128, 16) 448         input_1[0][0]                    \n",
            "__________________________________________________________________________________________________\n",
            "conv2d_2 (Conv2D)               (None, 128, 128, 16) 2320        conv2d_1[0][0]                   \n",
            "__________________________________________________________________________________________________\n",
            "max_pooling2d_1 (MaxPooling2D)  (None, 64, 64, 16)   0           conv2d_2[0][0]                   \n",
            "__________________________________________________________________________________________________\n",
            "conv2d_3 (Conv2D)               (None, 64, 64, 32)   4640        max_pooling2d_1[0][0]            \n",
            "__________________________________________________________________________________________________\n",
            "conv2d_4 (Conv2D)               (None, 64, 64, 32)   9248        conv2d_3[0][0]                   \n",
            "__________________________________________________________________________________________________\n",
            "max_pooling2d_2 (MaxPooling2D)  (None, 32, 32, 32)   0           conv2d_4[0][0]                   \n",
            "__________________________________________________________________________________________________\n",
            "conv2d_5 (Conv2D)               (None, 32, 32, 64)   18496       max_pooling2d_2[0][0]            \n",
            "__________________________________________________________________________________________________\n",
            "conv2d_6 (Conv2D)               (None, 32, 32, 64)   36928       conv2d_5[0][0]                   \n",
            "__________________________________________________________________________________________________\n",
            "max_pooling2d_3 (MaxPooling2D)  (None, 16, 16, 64)   0           conv2d_6[0][0]                   \n",
            "__________________________________________________________________________________________________\n",
            "conv2d_7 (Conv2D)               (None, 16, 16, 128)  73856       max_pooling2d_3[0][0]            \n",
            "__________________________________________________________________________________________________\n",
            "conv2d_8 (Conv2D)               (None, 16, 16, 128)  147584      conv2d_7[0][0]                   \n",
            "__________________________________________________________________________________________________\n",
            "max_pooling2d_4 (MaxPooling2D)  (None, 8, 8, 128)    0           conv2d_8[0][0]                   \n",
            "__________________________________________________________________________________________________\n",
            "conv2d_9 (Conv2D)               (None, 8, 8, 256)    295168      max_pooling2d_4[0][0]            \n",
            "__________________________________________________________________________________________________\n",
            "conv2d_10 (Conv2D)              (None, 8, 8, 256)    590080      conv2d_9[0][0]                   \n",
            "__________________________________________________________________________________________________\n",
            "up_sampling2d_1 (UpSampling2D)  (None, 16, 16, 256)  0           conv2d_10[0][0]                  \n",
            "__________________________________________________________________________________________________\n",
            "conv2d_11 (Conv2D)              (None, 16, 16, 128)  131200      up_sampling2d_1[0][0]            \n",
            "__________________________________________________________________________________________________\n",
            "concatenate_1 (Concatenate)     (None, 16, 16, 256)  0           conv2d_11[0][0]                  \n",
            "                                                                 conv2d_8[0][0]                   \n",
            "__________________________________________________________________________________________________\n",
            "conv2d_12 (Conv2D)              (None, 16, 16, 128)  295040      concatenate_1[0][0]              \n",
            "__________________________________________________________________________________________________\n",
            "conv2d_13 (Conv2D)              (None, 16, 16, 128)  147584      conv2d_12[0][0]                  \n",
            "__________________________________________________________________________________________________\n",
            "up_sampling2d_2 (UpSampling2D)  (None, 32, 32, 128)  0           conv2d_13[0][0]                  \n",
            "__________________________________________________________________________________________________\n",
            "conv2d_14 (Conv2D)              (None, 32, 32, 64)   32832       up_sampling2d_2[0][0]            \n",
            "__________________________________________________________________________________________________\n",
            "concatenate_2 (Concatenate)     (None, 32, 32, 128)  0           conv2d_14[0][0]                  \n",
            "                                                                 conv2d_6[0][0]                   \n",
            "__________________________________________________________________________________________________\n",
            "conv2d_15 (Conv2D)              (None, 32, 32, 64)   73792       concatenate_2[0][0]              \n",
            "__________________________________________________________________________________________________\n",
            "conv2d_16 (Conv2D)              (None, 32, 32, 64)   36928       conv2d_15[0][0]                  \n",
            "__________________________________________________________________________________________________\n",
            "up_sampling2d_3 (UpSampling2D)  (None, 64, 64, 64)   0           conv2d_16[0][0]                  \n",
            "__________________________________________________________________________________________________\n",
            "conv2d_17 (Conv2D)              (None, 64, 64, 32)   8224        up_sampling2d_3[0][0]            \n",
            "__________________________________________________________________________________________________\n",
            "concatenate_3 (Concatenate)     (None, 64, 64, 64)   0           conv2d_17[0][0]                  \n",
            "                                                                 conv2d_4[0][0]                   \n",
            "__________________________________________________________________________________________________\n",
            "conv2d_18 (Conv2D)              (None, 64, 64, 32)   18464       concatenate_3[0][0]              \n",
            "__________________________________________________________________________________________________\n",
            "conv2d_19 (Conv2D)              (None, 64, 64, 32)   9248        conv2d_18[0][0]                  \n",
            "__________________________________________________________________________________________________\n",
            "up_sampling2d_4 (UpSampling2D)  (None, 128, 128, 32) 0           conv2d_19[0][0]                  \n",
            "__________________________________________________________________________________________________\n",
            "conv2d_20 (Conv2D)              (None, 128, 128, 16) 2064        up_sampling2d_4[0][0]            \n",
            "__________________________________________________________________________________________________\n",
            "concatenate_4 (Concatenate)     (None, 128, 128, 32) 0           conv2d_20[0][0]                  \n",
            "                                                                 conv2d_2[0][0]                   \n",
            "__________________________________________________________________________________________________\n",
            "conv2d_21 (Conv2D)              (None, 128, 128, 16) 4624        concatenate_4[0][0]              \n",
            "__________________________________________________________________________________________________\n",
            "conv2d_22 (Conv2D)              (None, 128, 128, 16) 2320        conv2d_21[0][0]                  \n",
            "__________________________________________________________________________________________________\n",
            "conv2d_23 (Conv2D)              (None, 128, 128, 1)  17          conv2d_22[0][0]                  \n",
            "==================================================================================================\n",
            "Total params: 1,941,105\n",
            "Trainable params: 1,941,105\n",
            "Non-trainable params: 0\n",
            "__________________________________________________________________________________________________\n"
          ],
          "name": "stdout"
        }
      ]
    },
    {
      "metadata": {
        "id": "3T6OMdH37rm0",
        "colab_type": "text"
      },
      "cell_type": "markdown",
      "source": [
        "# Train the model\n",
        "now we train our model, before we train the model we set our callbacks\n",
        "*   **ModelCheckpoint** :  For example: if filepath  is **model-capstone_project_udacity_by_jimit_jaishwal**, then the model checkpoints will be saved with the epoch number and the validation loss in the filename.\n",
        "*  **EarlyStopping** : Stop training when a monitored quantity has stopped improving."
      ]
    },
    {
      "metadata": {
        "id": "tI629wfL7rm1",
        "colab_type": "code",
        "colab": {
          "autoexec": {
            "startup": false,
            "wait_interval": 0
          },
          "base_uri": "https://localhost:8080/",
          "height": 2808
        },
        "outputId": "499641ba-592a-4d33-c1b6-8d24187478cc",
        "executionInfo": {
          "status": "ok",
          "timestamp": 1527259694173,
          "user_tz": -330,
          "elapsed": 439012,
          "user": {
            "displayName": "Jimit Jayswal",
            "photoUrl": "//lh3.googleusercontent.com/-ftdgqUTK9F4/AAAAAAAAAAI/AAAAAAAAAkk/ZZ8-QUMozAs/s50-c-k-no/photo.jpg",
            "userId": "107987721837063616456"
          }
        }
      },
      "cell_type": "code",
      "source": [
        "stoper = EarlyStopping(verbose=1, patience=7)\n",
        "FILE_PATH = 'model-capstone_project_udacity_by_jimit_jaishwal.sh'\n",
        "checkpointer = ModelCheckpoint(FILE_PATH, verbose=1, save_best_only=True)\n",
        "\n",
        "\n",
        "\n",
        "BATCH = 4\n",
        "EPOCH = 40\n",
        "\n",
        "model.fit(epochs= EPOCH,\n",
        "          x = X_train,\n",
        "          y = Y_train, shuffle = False,\n",
        "          batch_size = BATCH,\n",
        "          validation_split = 0.1,\n",
        "          callbacks=[stoper, checkpointer])"
      ],
      "execution_count": 9,
      "outputs": [
        {
          "output_type": "stream",
          "text": [
            "Train on 603 samples, validate on 67 samples\n",
            "Epoch 1/40\n",
            "603/603 [==============================] - 14s 24ms/step - loss: 0.3557 - iou: 0.4249 - val_loss: 0.2434 - val_iou: 0.4439\n",
            "\n",
            "Epoch 00001: val_loss improved from inf to 0.24344, saving model to model-capstone_project_udacity_by_jimit_jaishwal.sh\n",
            "Epoch 2/40\n",
            "603/603 [==============================] - 11s 18ms/step - loss: 0.1727 - iou: 0.4715 - val_loss: 0.1433 - val_iou: 0.5204\n",
            "\n",
            "Epoch 00002: val_loss improved from 0.24344 to 0.14334, saving model to model-capstone_project_udacity_by_jimit_jaishwal.sh\n",
            "Epoch 3/40\n",
            "108/603 [====>.........................] - ETA: 8s - loss: 0.1222 - iou: 0.5322"
          ],
          "name": "stdout"
        },
        {
          "output_type": "stream",
          "text": [
            "603/603 [==============================] - 11s 18ms/step - loss: 0.1256 - iou: 0.5629 - val_loss: 0.1217 - val_iou: 0.5975\n",
            "\n",
            "Epoch 00003: val_loss improved from 0.14334 to 0.12168, saving model to model-capstone_project_udacity_by_jimit_jaishwal.sh\n",
            "Epoch 4/40\n",
            "603/603 [==============================] - 11s 18ms/step - loss: 0.1112 - iou: 0.6239 - val_loss: 0.1008 - val_iou: 0.6449\n",
            "\n",
            "Epoch 00004: val_loss improved from 0.12168 to 0.10083, saving model to model-capstone_project_udacity_by_jimit_jaishwal.sh\n",
            "Epoch 5/40\n",
            "236/603 [==========>...................] - ETA: 6s - loss: 0.1000 - iou: 0.6533"
          ],
          "name": "stdout"
        },
        {
          "output_type": "stream",
          "text": [
            "603/603 [==============================] - 11s 18ms/step - loss: 0.1014 - iou: 0.6621 - val_loss: 0.0972 - val_iou: 0.6772\n",
            "\n",
            "Epoch 00005: val_loss improved from 0.10083 to 0.09717, saving model to model-capstone_project_udacity_by_jimit_jaishwal.sh\n",
            "Epoch 6/40\n",
            "603/603 [==============================] - 11s 18ms/step - loss: 0.0935 - iou: 0.6901 - val_loss: 0.0995 - val_iou: 0.7013\n",
            "\n",
            "Epoch 00006: val_loss did not improve from 0.09717\n",
            "Epoch 7/40\n",
            "296/603 [=============>................] - ETA: 5s - loss: 0.0880 - iou: 0.7066"
          ],
          "name": "stdout"
        },
        {
          "output_type": "stream",
          "text": [
            "603/603 [==============================] - 11s 18ms/step - loss: 0.0887 - iou: 0.7108 - val_loss: 0.0902 - val_iou: 0.7195\n",
            "\n",
            "Epoch 00007: val_loss improved from 0.09717 to 0.09025, saving model to model-capstone_project_udacity_by_jimit_jaishwal.sh\n",
            "Epoch 8/40\n",
            "603/603 [==============================] - 11s 18ms/step - loss: 0.0910 - iou: 0.7267 - val_loss: 0.0903 - val_iou: 0.7333\n",
            "\n",
            "Epoch 00008: val_loss did not improve from 0.09025\n",
            "Epoch 9/40\n",
            "288/603 [=============>................] - ETA: 5s - loss: 0.0824 - iou: 0.7367"
          ],
          "name": "stdout"
        },
        {
          "output_type": "stream",
          "text": [
            "603/603 [==============================] - 11s 18ms/step - loss: 0.0832 - iou: 0.7396 - val_loss: 0.0803 - val_iou: 0.7454\n",
            "\n",
            "Epoch 00009: val_loss improved from 0.09025 to 0.08029, saving model to model-capstone_project_udacity_by_jimit_jaishwal.sh\n",
            "Epoch 10/40\n",
            "603/603 [==============================] - 11s 18ms/step - loss: 0.0818 - iou: 0.7506 - val_loss: 0.0779 - val_iou: 0.7554\n",
            "\n",
            "Epoch 00010: val_loss improved from 0.08029 to 0.07789, saving model to model-capstone_project_udacity_by_jimit_jaishwal.sh\n",
            "Epoch 11/40\n",
            "252/603 [===========>..................] - ETA: 5s - loss: 0.0787 - iou: 0.7577"
          ],
          "name": "stdout"
        },
        {
          "output_type": "stream",
          "text": [
            "603/603 [==============================] - 11s 18ms/step - loss: 0.0816 - iou: 0.7599 - val_loss: 0.0798 - val_iou: 0.7639\n",
            "\n",
            "Epoch 00011: val_loss did not improve from 0.07789\n",
            "Epoch 12/40\n",
            "603/603 [==============================] - 11s 18ms/step - loss: 0.0775 - iou: 0.7680 - val_loss: 0.0734 - val_iou: 0.7717\n",
            "\n",
            "Epoch 00012: val_loss improved from 0.07789 to 0.07335, saving model to model-capstone_project_udacity_by_jimit_jaishwal.sh\n",
            "Epoch 13/40\n",
            "372/603 [=================>............] - ETA: 3s - loss: 0.0734 - iou: 0.7740"
          ],
          "name": "stdout"
        },
        {
          "output_type": "stream",
          "text": [
            "603/603 [==============================] - 11s 18ms/step - loss: 0.0763 - iou: 0.7752 - val_loss: 0.0766 - val_iou: 0.7783\n",
            "\n",
            "Epoch 00013: val_loss did not improve from 0.07335\n",
            "Epoch 14/40\n",
            "603/603 [==============================] - 11s 18ms/step - loss: 0.0763 - iou: 0.7813 - val_loss: 0.0795 - val_iou: 0.7841\n",
            "\n",
            "Epoch 00014: val_loss did not improve from 0.07335\n",
            "Epoch 15/40\n",
            "452/603 [=====================>........] - ETA: 2s - loss: 0.0728 - iou: 0.7862"
          ],
          "name": "stdout"
        },
        {
          "output_type": "stream",
          "text": [
            "603/603 [==============================] - 11s 18ms/step - loss: 0.0747 - iou: 0.7867 - val_loss: 0.0728 - val_iou: 0.7892\n",
            "\n",
            "Epoch 00015: val_loss improved from 0.07335 to 0.07283, saving model to model-capstone_project_udacity_by_jimit_jaishwal.sh\n",
            "Epoch 16/40\n",
            "603/603 [==============================] - 11s 18ms/step - loss: 0.0726 - iou: 0.7916 - val_loss: 0.0736 - val_iou: 0.7939\n",
            "\n",
            "Epoch 00016: val_loss did not improve from 0.07283\n",
            "Epoch 17/40\n",
            "316/603 [==============>...............] - ETA: 4s - loss: 0.0694 - iou: 0.7952"
          ],
          "name": "stdout"
        },
        {
          "output_type": "stream",
          "text": [
            "603/603 [==============================] - 11s 18ms/step - loss: 0.0723 - iou: 0.7960 - val_loss: 0.0745 - val_iou: 0.7980\n",
            "\n",
            "Epoch 00017: val_loss did not improve from 0.07283\n",
            "Epoch 18/40\n",
            "603/603 [==============================] - 11s 18ms/step - loss: 0.0706 - iou: 0.8000 - val_loss: 0.0756 - val_iou: 0.8019\n",
            "\n",
            "Epoch 00018: val_loss did not improve from 0.07283\n",
            "Epoch 19/40\n",
            "424/603 [====================>.........] - ETA: 3s - loss: 0.0698 - iou: 0.8032"
          ],
          "name": "stdout"
        },
        {
          "output_type": "stream",
          "text": [
            "603/603 [==============================] - 11s 18ms/step - loss: 0.0726 - iou: 0.8036 - val_loss: 0.0737 - val_iou: 0.8051\n",
            "\n",
            "Epoch 00019: val_loss did not improve from 0.07283\n",
            "Epoch 20/40\n",
            "603/603 [==============================] - 11s 18ms/step - loss: 0.0685 - iou: 0.8068 - val_loss: 0.0696 - val_iou: 0.8083\n",
            "\n",
            "Epoch 00020: val_loss improved from 0.07283 to 0.06963, saving model to model-capstone_project_udacity_by_jimit_jaishwal.sh\n",
            "Epoch 21/40\n",
            "408/603 [===================>..........] - ETA: 3s - loss: 0.0658 - iou: 0.8095"
          ],
          "name": "stdout"
        },
        {
          "output_type": "stream",
          "text": [
            "603/603 [==============================] - 11s 18ms/step - loss: 0.0679 - iou: 0.8099 - val_loss: 0.0720 - val_iou: 0.8113\n",
            "\n",
            "Epoch 00021: val_loss did not improve from 0.06963\n",
            "Epoch 22/40\n",
            "603/603 [==============================] - 11s 18ms/step - loss: 0.0666 - iou: 0.8128 - val_loss: 0.0696 - val_iou: 0.8141\n",
            "\n",
            "Epoch 00022: val_loss improved from 0.06963 to 0.06956, saving model to model-capstone_project_udacity_by_jimit_jaishwal.sh\n",
            "Epoch 23/40\n",
            "396/603 [==================>...........] - ETA: 3s - loss: 0.0659 - iou: 0.8150"
          ],
          "name": "stdout"
        },
        {
          "output_type": "stream",
          "text": [
            "603/603 [==============================] - 11s 18ms/step - loss: 0.0684 - iou: 0.8154 - val_loss: 0.0674 - val_iou: 0.8166\n",
            "\n",
            "Epoch 00023: val_loss improved from 0.06956 to 0.06742, saving model to model-capstone_project_udacity_by_jimit_jaishwal.sh\n",
            "Epoch 24/40\n",
            "603/603 [==============================] - 11s 18ms/step - loss: 0.0657 - iou: 0.8178 - val_loss: 0.0708 - val_iou: 0.8190\n",
            "\n",
            "Epoch 00024: val_loss did not improve from 0.06742\n",
            "Epoch 25/40\n",
            "312/603 [==============>...............] - ETA: 5s - loss: 0.0625 - iou: 0.8196"
          ],
          "name": "stdout"
        },
        {
          "output_type": "stream",
          "text": [
            "603/603 [==============================] - 11s 18ms/step - loss: 0.0650 - iou: 0.8201 - val_loss: 0.0728 - val_iou: 0.8212\n",
            "\n",
            "Epoch 00025: val_loss did not improve from 0.06742\n",
            "Epoch 26/40\n",
            "603/603 [==============================] - 11s 18ms/step - loss: 0.0641 - iou: 0.8223 - val_loss: 0.0677 - val_iou: 0.8234\n",
            "\n",
            "Epoch 00026: val_loss did not improve from 0.06742\n",
            "Epoch 27/40\n",
            "416/603 [===================>..........] - ETA: 3s - loss: 0.0617 - iou: 0.8241"
          ],
          "name": "stdout"
        },
        {
          "output_type": "stream",
          "text": [
            "603/603 [==============================] - 11s 18ms/step - loss: 0.0640 - iou: 0.8244 - val_loss: 0.0788 - val_iou: 0.8253\n",
            "\n",
            "Epoch 00027: val_loss did not improve from 0.06742\n",
            "Epoch 28/40\n",
            "603/603 [==============================] - 11s 18ms/step - loss: 0.0676 - iou: 0.8262 - val_loss: 0.0674 - val_iou: 0.8270\n",
            "\n",
            "Epoch 00028: val_loss improved from 0.06742 to 0.06740, saving model to model-capstone_project_udacity_by_jimit_jaishwal.sh\n",
            "Epoch 29/40\n",
            "392/603 [==================>...........] - ETA: 3s - loss: 0.0617 - iou: 0.8276"
          ],
          "name": "stdout"
        },
        {
          "output_type": "stream",
          "text": [
            "603/603 [==============================] - 11s 18ms/step - loss: 0.0657 - iou: 0.8278 - val_loss: 0.0792 - val_iou: 0.8286\n",
            "\n",
            "Epoch 00029: val_loss did not improve from 0.06740\n",
            "Epoch 30/40\n",
            "603/603 [==============================] - 11s 18ms/step - loss: 0.0644 - iou: 0.8295 - val_loss: 0.0690 - val_iou: 0.8302\n",
            "\n",
            "Epoch 00030: val_loss did not improve from 0.06740\n",
            "Epoch 31/40\n",
            "440/603 [====================>.........] - ETA: 2s - loss: 0.0615 - iou: 0.8308"
          ],
          "name": "stdout"
        },
        {
          "output_type": "stream",
          "text": [
            "603/603 [==============================] - 11s 18ms/step - loss: 0.0632 - iou: 0.8310 - val_loss: 0.0684 - val_iou: 0.8317\n",
            "\n",
            "Epoch 00031: val_loss did not improve from 0.06740\n",
            "Epoch 32/40\n",
            "603/603 [==============================] - 11s 18ms/step - loss: 0.0612 - iou: 0.8326 - val_loss: 0.0648 - val_iou: 0.8333\n",
            "\n",
            "Epoch 00032: val_loss improved from 0.06740 to 0.06478, saving model to model-capstone_project_udacity_by_jimit_jaishwal.sh\n",
            "Epoch 33/40\n",
            "388/603 [==================>...........] - ETA: 3s - loss: 0.0563 - iou: 0.8338"
          ],
          "name": "stdout"
        },
        {
          "output_type": "stream",
          "text": [
            "603/603 [==============================] - 11s 18ms/step - loss: 0.0600 - iou: 0.8341 - val_loss: 0.0626 - val_iou: 0.8348\n",
            "\n",
            "Epoch 00033: val_loss improved from 0.06478 to 0.06264, saving model to model-capstone_project_udacity_by_jimit_jaishwal.sh\n",
            "Epoch 34/40\n",
            "603/603 [==============================] - 11s 18ms/step - loss: 0.0596 - iou: 0.8356 - val_loss: 0.0723 - val_iou: 0.8362\n",
            "\n",
            "Epoch 00034: val_loss did not improve from 0.06264\n",
            "Epoch 35/40\n",
            "296/603 [=============>................] - ETA: 5s - loss: 0.0573 - iou: 0.8366"
          ],
          "name": "stdout"
        },
        {
          "output_type": "stream",
          "text": [
            "603/603 [==============================] - 11s 18ms/step - loss: 0.0613 - iou: 0.8369 - val_loss: 0.0655 - val_iou: 0.8375\n",
            "\n",
            "Epoch 00035: val_loss did not improve from 0.06264\n",
            "Epoch 36/40\n",
            "603/603 [==============================] - 11s 18ms/step - loss: 0.0598 - iou: 0.8382 - val_loss: 0.0716 - val_iou: 0.8388\n",
            "\n",
            "Epoch 00036: val_loss did not improve from 0.06264\n",
            "Epoch 37/40\n",
            "456/603 [=====================>........] - ETA: 2s - loss: 0.0563 - iou: 0.8393"
          ],
          "name": "stdout"
        },
        {
          "output_type": "stream",
          "text": [
            "603/603 [==============================] - 11s 18ms/step - loss: 0.0587 - iou: 0.8395 - val_loss: 0.0687 - val_iou: 0.8400\n",
            "\n",
            "Epoch 00037: val_loss did not improve from 0.06264\n",
            "Epoch 38/40\n",
            "603/603 [==============================] - 11s 18ms/step - loss: 0.0587 - iou: 0.8407 - val_loss: 0.0686 - val_iou: 0.8412\n",
            "\n",
            "Epoch 00038: val_loss did not improve from 0.06264\n",
            "Epoch 39/40\n",
            "488/603 [=======================>......] - ETA: 1s - loss: 0.0556 - iou: 0.8418"
          ],
          "name": "stdout"
        },
        {
          "output_type": "stream",
          "text": [
            "603/603 [==============================] - 11s 18ms/step - loss: 0.0570 - iou: 0.8419 - val_loss: 0.0688 - val_iou: 0.8424\n",
            "\n",
            "Epoch 00039: val_loss did not improve from 0.06264\n",
            "Epoch 40/40\n",
            "603/603 [==============================] - 11s 18ms/step - loss: 0.0568 - iou: 0.8430 - val_loss: 0.0689 - val_iou: 0.8436\n",
            "\n",
            "Epoch 00040: val_loss did not improve from 0.06264\n",
            "Epoch 00040: early stopping\n"
          ],
          "name": "stdout"
        },
        {
          "output_type": "execute_result",
          "data": {
            "text/plain": [
              "<keras.callbacks.History at 0x7fe17a4f7470>"
            ]
          },
          "metadata": {
            "tags": []
          },
          "execution_count": 9
        }
      ]
    },
    {
      "metadata": {
        "id": "5nuSK0KQ7rm4",
        "colab_type": "text"
      },
      "cell_type": "markdown",
      "source": [
        "#  Prediction\n",
        "Now we are predicting a validation train and test dataset and  check how accurate our CNN model?"
      ]
    },
    {
      "metadata": {
        "id": "YQEn7H8I7rm6",
        "colab_type": "code",
        "colab": {
          "autoexec": {
            "startup": false,
            "wait_interval": 0
          }
        }
      },
      "cell_type": "code",
      "source": [
        "model = load_model(filepath=FILE_PATH, custom_objects={'iou' : iou})\n",
        "\n",
        "predict_train_set = model.predict(X_train[:int(X_train.shape[0] * 0.9)])\n",
        "predict_val_set = model.predict(X_train[int(X_train.shape[0] * 0.9):])\n",
        "predict_test_set = model.predict(X_test)\n",
        "\n",
        "def set_threshold(preds):\n",
        "    return (preds > 0.5).astype(np.uint8)\n",
        "\n",
        "predict_train_set = set_threshold(predict_train_set)\n",
        "predict_val_set = set_threshold(predict_val_set)\n",
        "predict_test_set = set_threshold(predict_test_set)"
      ],
      "execution_count": 0,
      "outputs": []
    },
    {
      "metadata": {
        "id": "D2XDhylZtlkG",
        "colab_type": "text"
      },
      "cell_type": "markdown",
      "source": [
        "# Visualize Train Prediction\n",
        "\n",
        "now we test and visualize our predicting train results and check how well model perform. "
      ]
    },
    {
      "metadata": {
        "id": "wOpRpR99f_CD",
        "colab_type": "code",
        "colab": {
          "autoexec": {
            "startup": false,
            "wait_interval": 0
          },
          "base_uri": "https://localhost:8080/",
          "height": 280
        },
        "outputId": "082245fd-6473-44ec-8598-df8b842ca793",
        "executionInfo": {
          "status": "ok",
          "timestamp": 1527259706561,
          "user_tz": -330,
          "elapsed": 1548,
          "user": {
            "displayName": "Jimit Jayswal",
            "photoUrl": "//lh3.googleusercontent.com/-ftdgqUTK9F4/AAAAAAAAAAI/AAAAAAAAAkk/ZZ8-QUMozAs/s50-c-k-no/photo.jpg",
            "userId": "107987721837063616456"
          }
        }
      },
      "cell_type": "code",
      "source": [
        "def display_results(id_, X_train, Y_train, predicted):\n",
        "    fig, arr = plt.subplots(1, 3, figsize=(13.4, 4), sharey=True,sharex=True)\n",
        "    arr[0].set_title('Microscopic Image')\n",
        "    arr[0].grid(False)\n",
        "    arr[0].imshow(X_train[id_])\n",
        "\n",
        "    arr[1].set_title('Mask Image')\n",
        "    arr[1].grid(False)\n",
        "    arr[1].imshow(np.squeeze(Y_train[id_]), cmap=\"viridis\")\n",
        "    \n",
        "    arr[2].imshow(np.squeeze(predicted[id_]), cmap=\"viridis\")\n",
        "    arr[2].set_title('Predicted Image')\n",
        "    arr[2].grid(False)\n",
        "        \n",
        "id_ = np.random.randint(0, len(predict_train_set))\n",
        "display_results(id_, X_train, Y_train, predict_train_set)"
      ],
      "execution_count": 11,
      "outputs": [
        {
          "output_type": "display_data",
          "data": {
            "image/png": "[encoded data removed]",
            "text/plain": [
              "<matplotlib.figure.Figure at 0x7fe17a555ba8>"
            ]
          },
          "metadata": {
            "tags": []
          }
        }
      ]
    },
    {
      "metadata": {
        "id": "EBQgTjA6rPlb",
        "colab_type": "text"
      },
      "cell_type": "markdown",
      "source": [
        "# Calculate Classification Accuracy on Test Set"
      ]
    },
    {
      "metadata": {
        "id": "GmjAsgNzrP8F",
        "colab_type": "code",
        "colab": {
          "autoexec": {
            "startup": false,
            "wait_interval": 0
          },
          "base_uri": "https://localhost:8080/",
          "height": 102
        },
        "outputId": "bba9cc52-ffda-4c49-838b-ef51b35215f6",
        "executionInfo": {
          "status": "ok",
          "timestamp": 1527260451022,
          "user_tz": -330,
          "elapsed": 1291,
          "user": {
            "displayName": "Jimit Jayswal",
            "photoUrl": "//lh3.googleusercontent.com/-ftdgqUTK9F4/AAAAAAAAAAI/AAAAAAAAAkk/ZZ8-QUMozAs/s50-c-k-no/photo.jpg",
            "userId": "107987721837063616456"
          }
        }
      },
      "cell_type": "code",
      "source": [
        "score = model.evaluate(X_test, predict_test_set, verbose=1)\n",
        "print('\\n', 'IoU Score :', score[1])\n",
        "print('\\n', 'Test Loss :', score[0])"
      ],
      "execution_count": 13,
      "outputs": [
        {
          "output_type": "stream",
          "text": [
            "65/65 [==============================] - 0s 5ms/step\n",
            "\n",
            " IoU Score : 0.8697974617664631\n",
            "\n",
            " Test Loss : 0.05526367325622302\n"
          ],
          "name": "stdout"
        }
      ]
    },
    {
      "metadata": {
        "id": "AdCP3g46f35E",
        "colab_type": "text"
      },
      "cell_type": "markdown",
      "source": [
        "# Visualize Test Prediction\n",
        "\n",
        "To test how well our model working i create 4 random images from test images and check how prediction is?"
      ]
    },
    {
      "metadata": {
        "id": "8Kuyjf38f4bB",
        "colab_type": "code",
        "colab": {
          "autoexec": {
            "startup": false,
            "wait_interval": 0
          },
          "base_uri": "https://localhost:8080/",
          "height": 547
        },
        "outputId": "a818eb66-fc12-4fe4-ee9a-5b3a3a86feeb",
        "executionInfo": {
          "status": "ok",
          "timestamp": 1527260458405,
          "user_tz": -330,
          "elapsed": 2535,
          "user": {
            "displayName": "Jimit Jayswal",
            "photoUrl": "//lh3.googleusercontent.com/-ftdgqUTK9F4/AAAAAAAAAAI/AAAAAAAAAkk/ZZ8-QUMozAs/s50-c-k-no/photo.jpg",
            "userId": "107987721837063616456"
          }
        }
      },
      "cell_type": "code",
      "source": [
        "number_list = []\n",
        "\n",
        "for i in range(4):\n",
        "    rand = np.random.randint(0, len(X_test))\n",
        "    number_list.append(rand)\n",
        "\n",
        "\n",
        "# visualize subset of training data\n",
        "fig = plt.figure(figsize=(16,4))\n",
        "for i in range(0, len(number_list)):\n",
        "    ax = fig.add_subplot(1, 4, i+1)\n",
        "    ax.grid(False)\n",
        "    ax.imshow(X_test[i])\n",
        "    ax.axis('off')\n",
        "fig.suptitle('Subset of Testing Images',  fontsize=16)\n",
        "plt.show()\n",
        "\n",
        "# visualize augmented images\n",
        "fig = plt.figure(figsize=(16,4))\n",
        "\n",
        "for i in range(0, len(number_list)):\n",
        "    ax = fig.add_subplot(1, 4, i+1)\n",
        "    ax.grid(False)\n",
        "    ax.axis('off')\n",
        "    ax.imshow(np.squeeze(predict_test_set[i]),  cmap=\"viridis\")\n",
        "fig.suptitle('Predicted Mask Images', fontsize=16)\n",
        "plt.show()"
      ],
      "execution_count": 14,
      "outputs": [
        {
          "output_type": "display_data",
          "data": {
            "image/png": "[encoded data removed]",
            "text/plain": [
              "<matplotlib.figure.Figure at 0x7fe14a14d0f0>"
            ]
          },
          "metadata": {
            "tags": []
          }
        },
        {
          "output_type": "display_data",
          "data": {
            "image/png": "[encoded data removed]",
            "text/plain": [
              "<matplotlib.figure.Figure at 0x7fe144eaaeb8>"
            ]
          },
          "metadata": {
            "tags": []
          }
        }
      ]
    },
    {
      "metadata": {
        "id": "XtrW_7cUFj48",
        "colab_type": "text"
      },
      "cell_type": "markdown",
      "source": [
        "# Save Results in local disks\n",
        "now we save all predicted test images in local disks."
      ]
    },
    {
      "metadata": {
        "id": "Q7C8vz3EvsZx",
        "colab_type": "code",
        "colab": {
          "autoexec": {
            "startup": false,
            "wait_interval": 0
          },
          "base_uri": "https://localhost:8080/",
          "height": 34
        },
        "outputId": "45a8a895-4465-4ab1-ddfb-c8a22084f6e6",
        "executionInfo": {
          "status": "ok",
          "timestamp": 1527260467909,
          "user_tz": -330,
          "elapsed": 1984,
          "user": {
            "displayName": "Jimit Jayswal",
            "photoUrl": "//lh3.googleusercontent.com/-ftdgqUTK9F4/AAAAAAAAAAI/AAAAAAAAAkk/ZZ8-QUMozAs/s50-c-k-no/photo.jpg",
            "userId": "107987721837063616456"
          }
        }
      },
      "cell_type": "code",
      "source": [
        "import png \n",
        "resultspath = os.path.join(cwd, 'results')\n",
        "\n",
        "if not os.path.exists(resultspath):\n",
        "    os.makedirs(resultspath)\n",
        "\n",
        "for index, image in enumerate(predict_test_set):\n",
        "    image_id = test_ids[index] + '.png'\n",
        "    png.from_array(image, 'L').save(os.path.join(resultspath, image_id))  \n",
        "\n",
        "print('All images saved successfully!')"
      ],
      "execution_count": 15,
      "outputs": [
        {
          "output_type": "stream",
          "text": [
            "All images saved successfully!\n"
          ],
          "name": "stdout"
        }
      ]
    }
  ]
}